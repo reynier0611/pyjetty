{
 "cells": [
  {
   "cell_type": "code",
   "execution_count": null,
   "id": "satellite-tennis",
   "metadata": {
    "scrolled": true
   },
   "outputs": [],
   "source": [
    "import ROOT\n",
    "import fastjet as fj\n",
    "import fjext\n",
    "import fjcontrib\n",
    "import fjtools\n",
    "\n",
    "import pythia8\n",
    "import pythiafjext\n",
    "import pythiaext\n",
    "from heppy.pythiautils import configuration as pyconf\n",
    "\n",
    "from tqdm.notebook import tqdm\n",
    "import argparse\n",
    "import os\n",
    "import sys"
   ]
  },
  {
   "cell_type": "code",
   "execution_count": null,
   "id": "presidential-astrology",
   "metadata": {
    "scrolled": true
   },
   "outputs": [],
   "source": [
    "def get_args_from_settings(ssettings):\n",
    "    sys.argv=[' '] + ssettings.split()\n",
    "    parser = argparse.ArgumentParser(description='pythia8 fastjet on the fly')\n",
    "    pyconf.add_standard_pythia_args(parser)\n",
    "    parser.add_argument('--output', default=\"test_ang_ue.root\", type=str)\n",
    "    parser.add_argument('--user-seed', help='pythia seed', default=1111, type=int)\n",
    "    args = parser.parse_args()\n",
    "    return args"
   ]
  },
  {
   "cell_type": "code",
   "execution_count": null,
   "id": "occupied-device",
   "metadata": {
    "scrolled": true
   },
   "outputs": [],
   "source": [
    "mycfg = []\n",
    "ssettings = \"--py-ecm 5000 --py-minbias --user-seed=100000\"\n",
    "args = get_args_from_settings(ssettings)\n",
    "pythia_mb = pyconf.create_and_init_pythia_from_args(args, mycfg)"
   ]
  },
  {
   "cell_type": "code",
   "execution_count": null,
   "id": "activated-preference",
   "metadata": {
    "scrolled": true
   },
   "outputs": [],
   "source": [
    "mycfg = []\n",
    "ssettings = \"--py-ecm 5000 --user-seed=100000 --nev 10000\"\n",
    "args = get_args_from_settings(ssettings)\n",
    "pythia_hard = pyconf.create_and_init_pythia_from_args(args, mycfg)"
   ]
  },
  {
   "cell_type": "code",
   "execution_count": null,
   "id": "biblical-donna",
   "metadata": {},
   "outputs": [],
   "source": [
    "max_eta_hadron=1\n",
    "parts_selector_h = fj.SelectorAbsEtaMax(max_eta_hadron)\n",
    "jet_R0 = 0.4\n",
    "jet_selector = fj.SelectorPtMin(20.0) & fj.SelectorPtMax(200.0) & fj.SelectorAbsEtaMax(max_eta_hadron - 1.05 * jet_R0)\n",
    "n_pileup = 1"
   ]
  },
  {
   "cell_type": "code",
   "execution_count": null,
   "id": "attempted-fluid",
   "metadata": {},
   "outputs": [],
   "source": [
    "# print the banner first\n",
    "fj.ClusterSequence.print_banner()\n",
    "print()\n",
    "# set up our jet definition and a jet selector\n",
    "jet_R0 = 0.4\n",
    "jet_def = fj.JetDefinition(fj.antikt_algorithm, jet_R0)\n",
    "print(jet_def)"
   ]
  },
  {
   "cell_type": "code",
   "execution_count": null,
   "id": "sitting-central",
   "metadata": {},
   "outputs": [],
   "source": [
    "def matched(j1, j2):\n",
    "    # j2i = fjtools.matched_Ry(j1, j2)\n",
    "    mpt = fjtools.matched_pt(j1, j2)\n",
    "    if mpt > 0.5:\n",
    "        return True, j1, j2, fjext.lambda_beta_kappa(j1, 1.0, 1.0, 1.0), fjext.lambda_beta_kappa(j2, 1.0, 1.0, 1.0)\n",
    "    return False"
   ]
  },
  {
   "cell_type": "code",
   "execution_count": null,
   "id": "suitable-voice",
   "metadata": {},
   "outputs": [],
   "source": [
    "def fill_matched(j1s, j2s, tj_no_pup, tj_pup, tj_delta):\n",
    "    for j1 in j1s:\n",
    "        tj_no_pup.Fill(j1.perp(), j1.eta(), j1.phi(), \n",
    "                       fjext.lambda_beta_kappa(j1, 1.0, 1.0, 1.0),\n",
    "                       fjext.lambda_beta_kappa(j1, 2.0, 1.0, 1.0),\n",
    "                       fjext.lambda_beta_kappa(j1, 3.0, 1.0, 1.0))\n",
    "        for j2 in j2s:\n",
    "            mpt = fjtools.matched_pt(j1, j2)\n",
    "            tj_delta.Fill(j1.perp(), j1.eta(), j1.phi(), \n",
    "                          fjext.lambda_beta_kappa(j1, 1.0, 1.0, 1.0),\n",
    "                          fjext.lambda_beta_kappa(j1, 2.0, 1.0, 1.0),\n",
    "                          fjext.lambda_beta_kappa(j1, 3.0, 1.0, 1.0),\n",
    "                          j2.perp(), j2.eta(), j2.phi(),\n",
    "                          fjext.lambda_beta_kappa(j2, 1.0, 1.0, 1.0),\n",
    "                          fjext.lambda_beta_kappa(j2, 2.0, 1.0, 1.0),\n",
    "                          fjext.lambda_beta_kappa(j2, 3.0, 1.0, 1.0), \n",
    "                          mpt)\n",
    "    for j1 in j2s:\n",
    "        tj_pup.Fill(j1.perp(), j1.eta(), j1.phi(),\n",
    "                    fjext.lambda_beta_kappa(j1, 1.0, 1.0, 1.0),\n",
    "                    fjext.lambda_beta_kappa(j1, 2.0, 1.0, 1.0),\n",
    "                    fjext.lambda_beta_kappa(j1, 3.0, 1.0, 1.0))"
   ]
  },
  {
   "cell_type": "code",
   "execution_count": null,
   "id": "finished-kingdom",
   "metadata": {},
   "outputs": [],
   "source": [
    "tj_delta = ROOT.TNtuple(\"tj_delta\", \"tj_delta\", \"pt:eta:phi:L11:L21:L31:ptm:etam:phim:L11m:L21m:L31m:mpt\")\n",
    "tj_no_pup = ROOT.TNtuple(\"tj_no_pup\", \"tj_no_pup\", \"pt:eta:phi:L11:L21:L31\")\n",
    "tj_pup = ROOT.TNtuple(\"tj_pup\", \"tj_pup\", \"pt:eta:phi:L11:L21:L31\")\n",
    "hmult_hard = ROOT.TH1F(\"hmult_hard\", \"hmult_hard\", 300, 0, 300)\n",
    "hmult_pup = ROOT.TH1F(\"hmult_pup\", \"hmult_pup\", 300, 0, 300)\n",
    "hpt_acc_hard = ROOT.TProfile2D(\"hpt_acc_hard\", \"hpt_acc_hard;#eta;#varphi\", 50, -1, 1, 50, 0, ROOT.TMath.Pi() * 2.)\n",
    "hpt_acc_pup = ROOT.TProfile2D(\"hpt_acc_pup\", \"hpt_acc_pup;#eta;#varphi\", 50, -1, 1, 50, 0, ROOT.TMath.Pi() * 2.)"
   ]
  },
  {
   "cell_type": "code",
   "execution_count": null,
   "id": "unsigned-vision",
   "metadata": {},
   "outputs": [],
   "source": [
    "for n in tqdm(range(args.nev)):\n",
    "    if not pythia_hard.next():\n",
    "        continue\n",
    "    parts_pythia_h = pythiafjext.vectorize_select(pythia_hard, [pythiafjext.kFinal], 0, False)\n",
    "    parts_pythia_h_selected = parts_selector_h(parts_pythia_h)\n",
    "\n",
    "    parts_pileup = None\n",
    "    for ipile in range(n_pileup):\n",
    "        while not pythia_mb.next():\n",
    "            continue\n",
    "        parts_pythia_h_ue = pythiafjext.vectorize_select(pythia_mb, [pythiafjext.kFinal], 10000, False)\n",
    "        parts_pythia_h_selected_ue = parts_selector_h(parts_pythia_h_ue)\n",
    "        if parts_pileup is None:\n",
    "            parts_pileup = parts_pythia_h_selected_ue\n",
    "        else:\n",
    "            parts_pileup += parts_pythia_h_selected_ue\n",
    "\n",
    "    mult_hard = len(parts_pythia_h_selected)\n",
    "    mult_ue = len(parts_pileup)\n",
    "    \n",
    "    jets_h = fj.sorted_by_pt(jet_selector(jet_def(parts_pythia_h_selected)))\n",
    "    jets_h_w_ue = fj.sorted_by_pt(jet_selector(jet_def(parts_pileup + parts_pythia_h_selected)))\n",
    "\n",
    "    if len(jets_h) < 1:\n",
    "        continue\n",
    "        \n",
    "    fill_matched(jets_h, jets_h_w_ue, tj_no_pup, tj_pup, tj_delta)\n",
    "\n",
    "    hmult_hard.Fill(mult_hard)\n",
    "    hmult_pup.Fill(mult_ue)\n",
    "\n",
    "    _tmp = [hpt_acc_hard.Fill(p.eta(), p.phi(), p.perp()) for p in parts_pythia_h_selected]\n",
    "    _tmp = [hpt_acc_pup.Fill(p.eta(), p.phi(), p.perp()) for p in parts_pileup]\n",
    "\n",
    "\n",
    "\n",
    "    #_tmp = [hpt_L_nopup.Fill(j.perp(), fjext.lambda_beta_kappa(j, 1.0, 1.0, 1.0)) for j in jets_h]\n",
    "    #_tmp = [hpt_L_pup.Fill(j.perp(), fjext.lambda_beta_kappa(j, 1.0, 1.0, 1.0)) for j in jets_h_w_ue]\n",
    "    \n",
    "    #_matched = [matched(j1, j2) for j1 in jets_h for j2 in jets_h_w_ue]\n",
    "    #for _m in _matched:\n",
    "    #    if _m:\n",
    "    #        hdpt.Fill(_m[1].perp(), _m[1].perp() - _m[2].perp())\n",
    "    #        hdL.Fill(_m[1].perp(), _m[3] - _m[4])\n",
    "        \n",
    "    "
   ]
  },
  {
   "cell_type": "code",
   "execution_count": null,
   "id": "quiet-firewall",
   "metadata": {},
   "outputs": [],
   "source": [
    "pythia_hard.stat()"
   ]
  },
  {
   "cell_type": "code",
   "execution_count": null,
   "id": "psychological-antenna",
   "metadata": {},
   "outputs": [],
   "source": [
    "pythia_mb.stat()"
   ]
  },
  {
   "cell_type": "code",
   "execution_count": null,
   "id": "blank-chuck",
   "metadata": {},
   "outputs": [],
   "source": [
    "%jsroot on\n",
    "cm = ROOT.TCanvas(\"cm\",\"cm\",600,400)\n",
    "hmult_pup.SetLineColor(3)\n",
    "hmult_pup.GetXaxis().SetTitle(\"charged particle multiplicity\")\n",
    "hmult_pup.GetYaxis().SetTitle(\"counts\")\n",
    "hmult_pup.Draw()\n",
    "hmult_hard.SetLineColor(2)\n",
    "hmult_hard.Draw(\"same\")\n",
    "cm.SetLogy()\n",
    "cm.BuildLegend()\n",
    "cm.Draw()"
   ]
  },
  {
   "cell_type": "code",
   "execution_count": null,
   "id": "distant-multimedia",
   "metadata": {},
   "outputs": [],
   "source": [
    "%jsroot on\n",
    "c = ROOT.TCanvas(\"c\",\"c\",1000,800)\n",
    "c.Divide(2,2)\n",
    "c.cd(1)\n",
    "tj_delta.Draw(\"dpt:pt>>hdpt\", \"mpt>0.5\", \"colz\")\n",
    "hdpt = ROOT.gDirectory.Get(\"hdpt\")\n",
    "hdpt.ProfileX().Draw(\"same\")\n",
    "ROOT.gPad.SetLogz()\n",
    "\n",
    "c.cd(2)\n",
    "tj_delta.Draw(\"dL11:pt>>hdL11\", \"mpt>0.5\", \"colz\")\n",
    "hdL11 = ROOT.gDirectory.Get(\"hdL11\")\n",
    "hdL11.ProfileX().Draw(\"same\")\n",
    "ROOT.gPad.SetLogz()\n",
    "\n",
    "c.cd(3)\n",
    "tj_delta.Draw(\"dL21:pt>>hdL21\", \"mpt>0.5\", \"colz\")\n",
    "hdL21 = ROOT.gDirectory.Get(\"hdL21\")\n",
    "hdL21.ProfileX().Draw(\"same\")\n",
    "ROOT.gPad.SetLogz()\n",
    "\n",
    "c.cd(4)\n",
    "tj_delta.Draw(\"dL31:pt>>hdL31\", \"mpt>0.5\", \"colz\")\n",
    "hdL31 = ROOT.gDirectory.Get(\"hdL31\")\n",
    "hdL31.ProfileX().Draw(\"same\")\n",
    "ROOT.gPad.SetLogz()\n",
    "\n",
    "\n",
    "c.Draw()"
   ]
  },
  {
   "cell_type": "code",
   "execution_count": null,
   "id": "confident-attack",
   "metadata": {},
   "outputs": [],
   "source": [
    "%jsroot on\n",
    "c1 = ROOT.TCanvas(\"c1\",\"c1\",1000,800)\n",
    "c1.Divide(2,2)\n",
    "c1.cd(1)\n",
    "tj_delta.Draw(\"dpt:pt>>hdpt\", \"mpt>0.5 && pt>20 && pt<40\", \"colz\")\n",
    "hdpt = ROOT.gDirectory.Get(\"hdpt\")\n",
    "hdpt.ProfileX().Draw(\"same\")\n",
    "ROOT.gPad.SetLogz()\n",
    "\n",
    "c1.cd(2)\n",
    "tj_delta.Draw(\"dL11:L11>>pthdL11\", \"mpt>0.5 && pt>20 && pt<40\", \"colz\")\n",
    "pthdL11 = ROOT.gDirectory.Get(\"pthdL11\")\n",
    "pthdL11.ProfileX().Draw(\"same\")\n",
    "ROOT.gPad.SetLogz()\n",
    "\n",
    "c1.cd(3)\n",
    "tj_delta.Draw(\"dL21:L21>>pthdL21\", \"mpt>0.5 && pt>20 && pt<40\", \"colz\")\n",
    "pthdL21 = ROOT.gDirectory.Get(\"pthdL21\")\n",
    "pthdL21.ProfileX().Draw(\"same\")\n",
    "ROOT.gPad.SetLogz()\n",
    "\n",
    "c1.cd(4)\n",
    "tj_delta.Draw(\"dL31:L31>>pthdL31\", \"mpt>0.5 && pt>20 && pt<40\", \"colz\")\n",
    "pthdL31 = ROOT.gDirectory.Get(\"pthdL31\")\n",
    "pthdL31.ProfileX().Draw(\"same\")\n",
    "ROOT.gPad.SetLogz()\n",
    "\n",
    "\n",
    "c1.Draw()"
   ]
  },
  {
   "cell_type": "code",
   "execution_count": null,
   "id": "ongoing-cookbook",
   "metadata": {},
   "outputs": [],
   "source": [
    "%jsroot on\n",
    "c2 = ROOT.TCanvas(\"c2\",\"c2\",1000,800)\n",
    "c2.Divide(2,2)\n",
    "c2.cd(1)\n",
    "tj_delta.Draw(\"dpt:pt>>hdpt\", \"mpt>0.5 && pt>60 && pt<80\", \"colz\")\n",
    "hdpt = ROOT.gDirectory.Get(\"hdpt\")\n",
    "hdpt.ProfileX().Draw(\"same\")\n",
    "ROOT.gPad.SetLogz()\n",
    "\n",
    "c2.cd(2)\n",
    "tj_delta.Draw(\"dL11:L11>>pt2hdL11\", \"mpt>0.5 && pt>60 && pt<80\", \"colz\")\n",
    "pt2hdL11 = ROOT.gDirectory.Get(\"pt2hdL11\")\n",
    "pt2hdL11.ProfileX().Draw(\"same\")\n",
    "ROOT.gPad.SetLogz()\n",
    "\n",
    "c2.cd(3)\n",
    "tj_delta.Draw(\"dL21:L21>>pt2hdL21\", \"mpt>0.5 && pt>60 && pt<80\", \"colz\")\n",
    "pt2hdL21 = ROOT.gDirectory.Get(\"pt2hdL21\")\n",
    "pt2hdL21.ProfileX().Draw(\"same\")\n",
    "ROOT.gPad.SetLogz()\n",
    "\n",
    "c2.cd(4)\n",
    "tj_delta.Draw(\"dL31:L31>>pt2hdL31\", \"mpt>0.5 && pt>60 && pt<80\", \"colz\")\n",
    "pt2hdL31 = ROOT.gDirectory.Get(\"pt2hdL31\")\n",
    "pt2hdL31.ProfileX().Draw(\"same\")\n",
    "ROOT.gPad.SetLogz()\n",
    "\n",
    "\n",
    "c2.Draw()"
   ]
  },
  {
   "cell_type": "code",
   "execution_count": null,
   "id": "critical-balance",
   "metadata": {},
   "outputs": [],
   "source": [
    "%jsroot on\n",
    "c3 = ROOT.TCanvas(\"c3\",\"c3\",1000,800)\n",
    "c3.Divide(1,2)\n",
    "c3.cd(1)\n",
    "hpt_acc_pup.Draw(\"colz\")\n",
    "c3.cd(2)\n",
    "hpt_acc_hard.Draw(\"colz\")\n",
    "c3.Draw()"
   ]
  },
  {
   "cell_type": "code",
   "execution_count": null,
   "id": "constitutional-heaven",
   "metadata": {},
   "outputs": [],
   "source": [
    "%jsroot on\n",
    "tc = ROOT.TCanvas()\n",
    "tj_delta.Draw(\"dpt:pt\", \"mpt>0.5\", \"colz\")\n",
    "ROOT.gPad.SetLogz()\n",
    "tc.Draw()"
   ]
  },
  {
   "cell_type": "code",
   "execution_count": null,
   "id": "latin-liverpool",
   "metadata": {},
   "outputs": [],
   "source": [
    "%jsroot on\n",
    "tcL = ROOT.TCanvas()\n",
    "tcL.Divide(2,2)\n",
    "tcL.cd(1)\n",
    "tj_delta.Draw(\"dL11:L11>>pt2hdL11x\", \"mpt>0.5 && pt>60 && pt<80\", \"colz\")\n",
    "pt2hdL11x = ROOT.gDirectory.Get(\"pt2hdL11x\")\n",
    "\n",
    "tj_delta.Draw(\"dL11:L11>>pt2hdL11xx\", \"mpt>0.5 && pt>60 && pt<80\", \"colz\")\n",
    "pt2hdL11xx = ROOT.gDirectory.Get(\"pt2hdL11xx\")\n",
    "\n",
    "pxx = pt2hdL11xx.ProjectionX()\n",
    "pxx.SetLineStyle(2)\n",
    "pxx.SetFillColorAlpha(2, 0.5)\n",
    "pxx.SetFillStyle(1001)\n",
    "pxx.Draw()\n",
    "\n",
    "\n",
    "tcL.cd(2)\n",
    "pyy = pt2hdL11xx.ProjectionY()\n",
    "pyy.SetLineStyle(2)\n",
    "pyy.SetFillColorAlpha(3, 0.5)\n",
    "pyy.SetFillStyle(1001)\n",
    "pyy.Draw()\n",
    "\n",
    "\n",
    "\n",
    "\n",
    "#pt2hdL11x.ProjectionX().Draw()\n",
    "#pxx.Draw(\"same\")\n",
    "\n",
    "\n",
    "\n",
    "ROOT.gPad.SetLogy()\n",
    "ROOT.gPad.BuildLegend()\n",
    "tcL.Draw()\n"
   ]
  },
  {
   "cell_type": "code",
   "execution_count": null,
   "id": "vertical-approval",
   "metadata": {},
   "outputs": [],
   "source": []
  }
 ],
 "metadata": {
  "kernelspec": {
   "display_name": "Python 3",
   "language": "python",
   "name": "python3"
  },
  "language_info": {
   "codemirror_mode": {
    "name": "ipython",
    "version": 3
   },
   "file_extension": ".py",
   "mimetype": "text/x-python",
   "name": "python",
   "nbconvert_exporter": "python",
   "pygments_lexer": "ipython3",
   "version": "3.9.2"
  }
 },
 "nbformat": 4,
 "nbformat_minor": 5
}
