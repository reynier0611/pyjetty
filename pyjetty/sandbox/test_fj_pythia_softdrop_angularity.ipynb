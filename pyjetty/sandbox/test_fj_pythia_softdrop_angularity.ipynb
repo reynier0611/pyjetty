{
 "cells": [
  {
   "cell_type": "code",
   "execution_count": 1,
   "metadata": {},
   "outputs": [],
   "source": [
    "import fastjet as fj\n",
    "import fjcontrib as rt\n",
    "import fjext\n",
    "\n",
    "import pythia8\n",
    "import pythiafjext as pyfj\n",
    "import pythiaext"
   ]
  },
  {
   "cell_type": "code",
   "execution_count": 14,
   "metadata": {},
   "outputs": [
    {
     "name": "stdout",
     "output_type": "stream",
     "text": [
      "Requirement already satisfied: ipympl in /Users/ploskon/devel/heppy/venv/heppy-15e9EH0f/lib/python3.9/site-packages (0.7.0)\n",
      "Requirement already satisfied: matplotlib>=2.0.0 in /Users/ploskon/devel/heppy/venv/heppy-15e9EH0f/lib/python3.9/site-packages (from ipympl) (3.4.1)\n",
      "Requirement already satisfied: ipywidgets>=7.6.0 in /Users/ploskon/devel/heppy/venv/heppy-15e9EH0f/lib/python3.9/site-packages (from ipympl) (7.6.3)\n",
      "Requirement already satisfied: ipykernel>=4.7 in /Users/ploskon/devel/heppy/venv/heppy-15e9EH0f/lib/python3.9/site-packages (from ipympl) (5.5.3)\n",
      "Requirement already satisfied: ipython>=5.0.0 in /Users/ploskon/devel/heppy/venv/heppy-15e9EH0f/lib/python3.9/site-packages (from ipykernel>=4.7->ipympl) (7.22.0)\n",
      "Requirement already satisfied: tornado>=4.2 in /Users/ploskon/devel/heppy/venv/heppy-15e9EH0f/lib/python3.9/site-packages (from ipykernel>=4.7->ipympl) (6.1)\n",
      "Requirement already satisfied: jupyter-client in /Users/ploskon/devel/heppy/venv/heppy-15e9EH0f/lib/python3.9/site-packages (from ipykernel>=4.7->ipympl) (6.1.12)\n",
      "Requirement already satisfied: appnope in /Users/ploskon/devel/heppy/venv/heppy-15e9EH0f/lib/python3.9/site-packages (from ipykernel>=4.7->ipympl) (0.1.2)\n",
      "Requirement already satisfied: traitlets>=4.1.0 in /Users/ploskon/devel/heppy/venv/heppy-15e9EH0f/lib/python3.9/site-packages (from ipykernel>=4.7->ipympl) (5.0.5)\n",
      "Requirement already satisfied: prompt-toolkit!=3.0.0,!=3.0.1,<3.1.0,>=2.0.0 in /Users/ploskon/devel/heppy/venv/heppy-15e9EH0f/lib/python3.9/site-packages (from ipython>=5.0.0->ipykernel>=4.7->ipympl) (3.0.18)\n",
      "Requirement already satisfied: pexpect>4.3 in /Users/ploskon/devel/heppy/venv/heppy-15e9EH0f/lib/python3.9/site-packages (from ipython>=5.0.0->ipykernel>=4.7->ipympl) (4.8.0)\n",
      "Requirement already satisfied: backcall in /Users/ploskon/devel/heppy/venv/heppy-15e9EH0f/lib/python3.9/site-packages (from ipython>=5.0.0->ipykernel>=4.7->ipympl) (0.2.0)\n",
      "Requirement already satisfied: pygments in /Users/ploskon/devel/heppy/venv/heppy-15e9EH0f/lib/python3.9/site-packages (from ipython>=5.0.0->ipykernel>=4.7->ipympl) (2.8.1)\n",
      "Requirement already satisfied: setuptools>=18.5 in /Users/ploskon/devel/heppy/venv/heppy-15e9EH0f/lib/python3.9/site-packages (from ipython>=5.0.0->ipykernel>=4.7->ipympl) (54.0.0)\n",
      "Requirement already satisfied: decorator in /Users/ploskon/devel/heppy/venv/heppy-15e9EH0f/lib/python3.9/site-packages (from ipython>=5.0.0->ipykernel>=4.7->ipympl) (4.4.2)\n",
      "Requirement already satisfied: pickleshare in /Users/ploskon/devel/heppy/venv/heppy-15e9EH0f/lib/python3.9/site-packages (from ipython>=5.0.0->ipykernel>=4.7->ipympl) (0.7.5)\n",
      "Requirement already satisfied: jedi>=0.16 in /Users/ploskon/devel/heppy/venv/heppy-15e9EH0f/lib/python3.9/site-packages (from ipython>=5.0.0->ipykernel>=4.7->ipympl) (0.18.0)\n",
      "Requirement already satisfied: jupyterlab-widgets>=1.0.0 in /Users/ploskon/devel/heppy/venv/heppy-15e9EH0f/lib/python3.9/site-packages (from ipywidgets>=7.6.0->ipympl) (1.0.0)\n",
      "Requirement already satisfied: nbformat>=4.2.0 in /Users/ploskon/devel/heppy/venv/heppy-15e9EH0f/lib/python3.9/site-packages (from ipywidgets>=7.6.0->ipympl) (5.1.2)\n",
      "Requirement already satisfied: widgetsnbextension~=3.5.0 in /Users/ploskon/devel/heppy/venv/heppy-15e9EH0f/lib/python3.9/site-packages (from ipywidgets>=7.6.0->ipympl) (3.5.1)\n",
      "Requirement already satisfied: parso<0.9.0,>=0.8.0 in /Users/ploskon/devel/heppy/venv/heppy-15e9EH0f/lib/python3.9/site-packages (from jedi>=0.16->ipython>=5.0.0->ipykernel>=4.7->ipympl) (0.8.2)\n",
      "Requirement already satisfied: numpy>=1.16 in /Users/ploskon/devel/heppy/venv/heppy-15e9EH0f/lib/python3.9/site-packages (from matplotlib>=2.0.0->ipympl) (1.20.2)\n",
      "Requirement already satisfied: python-dateutil>=2.7 in /Users/ploskon/devel/heppy/venv/heppy-15e9EH0f/lib/python3.9/site-packages (from matplotlib>=2.0.0->ipympl) (2.8.1)\n",
      "Requirement already satisfied: pyparsing>=2.2.1 in /Users/ploskon/devel/heppy/venv/heppy-15e9EH0f/lib/python3.9/site-packages (from matplotlib>=2.0.0->ipympl) (2.4.7)\n",
      "Requirement already satisfied: cycler>=0.10 in /Users/ploskon/devel/heppy/venv/heppy-15e9EH0f/lib/python3.9/site-packages (from matplotlib>=2.0.0->ipympl) (0.10.0)\n",
      "Requirement already satisfied: pillow>=6.2.0 in /Users/ploskon/devel/heppy/venv/heppy-15e9EH0f/lib/python3.9/site-packages (from matplotlib>=2.0.0->ipympl) (8.2.0)\n",
      "Requirement already satisfied: kiwisolver>=1.0.1 in /Users/ploskon/devel/heppy/venv/heppy-15e9EH0f/lib/python3.9/site-packages (from matplotlib>=2.0.0->ipympl) (1.3.1)\n",
      "Requirement already satisfied: six in /Users/ploskon/devel/heppy/venv/heppy-15e9EH0f/lib/python3.9/site-packages (from cycler>=0.10->matplotlib>=2.0.0->ipympl) (1.15.0)\n",
      "Requirement already satisfied: jupyter-core in /Users/ploskon/devel/heppy/venv/heppy-15e9EH0f/lib/python3.9/site-packages (from nbformat>=4.2.0->ipywidgets>=7.6.0->ipympl) (4.7.1)\n",
      "Requirement already satisfied: ipython-genutils in /Users/ploskon/devel/heppy/venv/heppy-15e9EH0f/lib/python3.9/site-packages (from nbformat>=4.2.0->ipywidgets>=7.6.0->ipympl) (0.2.0)\n",
      "Requirement already satisfied: jsonschema!=2.5.0,>=2.4 in /Users/ploskon/devel/heppy/venv/heppy-15e9EH0f/lib/python3.9/site-packages (from nbformat>=4.2.0->ipywidgets>=7.6.0->ipympl) (3.2.0)\n",
      "Requirement already satisfied: attrs>=17.4.0 in /Users/ploskon/devel/heppy/venv/heppy-15e9EH0f/lib/python3.9/site-packages (from jsonschema!=2.5.0,>=2.4->nbformat>=4.2.0->ipywidgets>=7.6.0->ipympl) (20.3.0)\n",
      "Requirement already satisfied: pyrsistent>=0.14.0 in /Users/ploskon/devel/heppy/venv/heppy-15e9EH0f/lib/python3.9/site-packages (from jsonschema!=2.5.0,>=2.4->nbformat>=4.2.0->ipywidgets>=7.6.0->ipympl) (0.17.3)\n",
      "Requirement already satisfied: ptyprocess>=0.5 in /Users/ploskon/devel/heppy/venv/heppy-15e9EH0f/lib/python3.9/site-packages (from pexpect>4.3->ipython>=5.0.0->ipykernel>=4.7->ipympl) (0.7.0)\n",
      "Requirement already satisfied: wcwidth in /Users/ploskon/devel/heppy/venv/heppy-15e9EH0f/lib/python3.9/site-packages (from prompt-toolkit!=3.0.0,!=3.0.1,<3.1.0,>=2.0.0->ipython>=5.0.0->ipykernel>=4.7->ipympl) (0.2.5)\n",
      "Requirement already satisfied: notebook>=4.4.1 in /Users/ploskon/devel/heppy/venv/heppy-15e9EH0f/lib/python3.9/site-packages (from widgetsnbextension~=3.5.0->ipywidgets>=7.6.0->ipympl) (6.3.0)\n",
      "Requirement already satisfied: terminado>=0.8.3 in /Users/ploskon/devel/heppy/venv/heppy-15e9EH0f/lib/python3.9/site-packages (from notebook>=4.4.1->widgetsnbextension~=3.5.0->ipywidgets>=7.6.0->ipympl) (0.9.4)\n",
      "Requirement already satisfied: pyzmq>=17 in /Users/ploskon/devel/heppy/venv/heppy-15e9EH0f/lib/python3.9/site-packages (from notebook>=4.4.1->widgetsnbextension~=3.5.0->ipywidgets>=7.6.0->ipympl) (22.0.3)\n",
      "Requirement already satisfied: Send2Trash>=1.5.0 in /Users/ploskon/devel/heppy/venv/heppy-15e9EH0f/lib/python3.9/site-packages (from notebook>=4.4.1->widgetsnbextension~=3.5.0->ipywidgets>=7.6.0->ipympl) (1.5.0)\n",
      "Requirement already satisfied: nbconvert in /Users/ploskon/devel/heppy/venv/heppy-15e9EH0f/lib/python3.9/site-packages (from notebook>=4.4.1->widgetsnbextension~=3.5.0->ipywidgets>=7.6.0->ipympl) (6.0.7)\n",
      "Requirement already satisfied: prometheus-client in /Users/ploskon/devel/heppy/venv/heppy-15e9EH0f/lib/python3.9/site-packages (from notebook>=4.4.1->widgetsnbextension~=3.5.0->ipywidgets>=7.6.0->ipympl) (0.9.0)\n",
      "Requirement already satisfied: jinja2 in /Users/ploskon/devel/heppy/venv/heppy-15e9EH0f/lib/python3.9/site-packages (from notebook>=4.4.1->widgetsnbextension~=3.5.0->ipywidgets>=7.6.0->ipympl) (2.11.3)\n",
      "Requirement already satisfied: argon2-cffi in /Users/ploskon/devel/heppy/venv/heppy-15e9EH0f/lib/python3.9/site-packages (from notebook>=4.4.1->widgetsnbextension~=3.5.0->ipywidgets>=7.6.0->ipympl) (20.1.0)\n",
      "Requirement already satisfied: cffi>=1.0.0 in /Users/ploskon/devel/heppy/venv/heppy-15e9EH0f/lib/python3.9/site-packages (from argon2-cffi->notebook>=4.4.1->widgetsnbextension~=3.5.0->ipywidgets>=7.6.0->ipympl) (1.14.5)\n",
      "Requirement already satisfied: pycparser in /Users/ploskon/devel/heppy/venv/heppy-15e9EH0f/lib/python3.9/site-packages (from cffi>=1.0.0->argon2-cffi->notebook>=4.4.1->widgetsnbextension~=3.5.0->ipywidgets>=7.6.0->ipympl) (2.20)\n",
      "Requirement already satisfied: MarkupSafe>=0.23 in /Users/ploskon/devel/heppy/venv/heppy-15e9EH0f/lib/python3.9/site-packages (from jinja2->notebook>=4.4.1->widgetsnbextension~=3.5.0->ipywidgets>=7.6.0->ipympl) (1.1.1)\n",
      "Requirement already satisfied: mistune<2,>=0.8.1 in /Users/ploskon/devel/heppy/venv/heppy-15e9EH0f/lib/python3.9/site-packages (from nbconvert->notebook>=4.4.1->widgetsnbextension~=3.5.0->ipywidgets>=7.6.0->ipympl) (0.8.4)\n",
      "Requirement already satisfied: bleach in /Users/ploskon/devel/heppy/venv/heppy-15e9EH0f/lib/python3.9/site-packages (from nbconvert->notebook>=4.4.1->widgetsnbextension~=3.5.0->ipywidgets>=7.6.0->ipympl) (3.3.0)\n",
      "Requirement already satisfied: defusedxml in /Users/ploskon/devel/heppy/venv/heppy-15e9EH0f/lib/python3.9/site-packages (from nbconvert->notebook>=4.4.1->widgetsnbextension~=3.5.0->ipywidgets>=7.6.0->ipympl) (0.7.1)\n",
      "Requirement already satisfied: pandocfilters>=1.4.1 in /Users/ploskon/devel/heppy/venv/heppy-15e9EH0f/lib/python3.9/site-packages (from nbconvert->notebook>=4.4.1->widgetsnbextension~=3.5.0->ipywidgets>=7.6.0->ipympl) (1.4.3)\n",
      "Requirement already satisfied: entrypoints>=0.2.2 in /Users/ploskon/devel/heppy/venv/heppy-15e9EH0f/lib/python3.9/site-packages (from nbconvert->notebook>=4.4.1->widgetsnbextension~=3.5.0->ipywidgets>=7.6.0->ipympl) (0.3)\n",
      "Requirement already satisfied: testpath in /Users/ploskon/devel/heppy/venv/heppy-15e9EH0f/lib/python3.9/site-packages (from nbconvert->notebook>=4.4.1->widgetsnbextension~=3.5.0->ipywidgets>=7.6.0->ipympl) (0.4.4)\n",
      "Requirement already satisfied: jupyterlab-pygments in /Users/ploskon/devel/heppy/venv/heppy-15e9EH0f/lib/python3.9/site-packages (from nbconvert->notebook>=4.4.1->widgetsnbextension~=3.5.0->ipywidgets>=7.6.0->ipympl) (0.1.2)\n",
      "Requirement already satisfied: nbclient<0.6.0,>=0.5.0 in /Users/ploskon/devel/heppy/venv/heppy-15e9EH0f/lib/python3.9/site-packages (from nbconvert->notebook>=4.4.1->widgetsnbextension~=3.5.0->ipywidgets>=7.6.0->ipympl) (0.5.3)\n",
      "Requirement already satisfied: async-generator in /Users/ploskon/devel/heppy/venv/heppy-15e9EH0f/lib/python3.9/site-packages (from nbclient<0.6.0,>=0.5.0->nbconvert->notebook>=4.4.1->widgetsnbextension~=3.5.0->ipywidgets>=7.6.0->ipympl) (1.10)\n",
      "Requirement already satisfied: nest-asyncio in /Users/ploskon/devel/heppy/venv/heppy-15e9EH0f/lib/python3.9/site-packages (from nbclient<0.6.0,>=0.5.0->nbconvert->notebook>=4.4.1->widgetsnbextension~=3.5.0->ipywidgets>=7.6.0->ipympl) (1.5.1)\n",
      "Requirement already satisfied: packaging in /Users/ploskon/devel/heppy/venv/heppy-15e9EH0f/lib/python3.9/site-packages (from bleach->nbconvert->notebook>=4.4.1->widgetsnbextension~=3.5.0->ipywidgets>=7.6.0->ipympl) (20.9)\n",
      "Requirement already satisfied: webencodings in /Users/ploskon/devel/heppy/venv/heppy-15e9EH0f/lib/python3.9/site-packages (from bleach->nbconvert->notebook>=4.4.1->widgetsnbextension~=3.5.0->ipywidgets>=7.6.0->ipympl) (0.5.1)\n",
      "Requirement already satisfied: ipywidgets in /Users/ploskon/devel/heppy/venv/heppy-15e9EH0f/lib/python3.9/site-packages (7.6.3)\n",
      "Requirement already satisfied: traitlets>=4.3.1 in /Users/ploskon/devel/heppy/venv/heppy-15e9EH0f/lib/python3.9/site-packages (from ipywidgets) (5.0.5)\n",
      "Requirement already satisfied: ipykernel>=4.5.1 in /Users/ploskon/devel/heppy/venv/heppy-15e9EH0f/lib/python3.9/site-packages (from ipywidgets) (5.5.3)\n",
      "Requirement already satisfied: widgetsnbextension~=3.5.0 in /Users/ploskon/devel/heppy/venv/heppy-15e9EH0f/lib/python3.9/site-packages (from ipywidgets) (3.5.1)\n",
      "Requirement already satisfied: ipython>=4.0.0 in /Users/ploskon/devel/heppy/venv/heppy-15e9EH0f/lib/python3.9/site-packages (from ipywidgets) (7.22.0)\n",
      "Requirement already satisfied: jupyterlab-widgets>=1.0.0 in /Users/ploskon/devel/heppy/venv/heppy-15e9EH0f/lib/python3.9/site-packages (from ipywidgets) (1.0.0)\n",
      "Requirement already satisfied: nbformat>=4.2.0 in /Users/ploskon/devel/heppy/venv/heppy-15e9EH0f/lib/python3.9/site-packages (from ipywidgets) (5.1.2)\n",
      "Requirement already satisfied: tornado>=4.2 in /Users/ploskon/devel/heppy/venv/heppy-15e9EH0f/lib/python3.9/site-packages (from ipykernel>=4.5.1->ipywidgets) (6.1)\n",
      "Requirement already satisfied: jupyter-client in /Users/ploskon/devel/heppy/venv/heppy-15e9EH0f/lib/python3.9/site-packages (from ipykernel>=4.5.1->ipywidgets) (6.1.12)\n",
      "Requirement already satisfied: appnope in /Users/ploskon/devel/heppy/venv/heppy-15e9EH0f/lib/python3.9/site-packages (from ipykernel>=4.5.1->ipywidgets) (0.1.2)\n",
      "Requirement already satisfied: pickleshare in /Users/ploskon/devel/heppy/venv/heppy-15e9EH0f/lib/python3.9/site-packages (from ipython>=4.0.0->ipywidgets) (0.7.5)\n",
      "Requirement already satisfied: pygments in /Users/ploskon/devel/heppy/venv/heppy-15e9EH0f/lib/python3.9/site-packages (from ipython>=4.0.0->ipywidgets) (2.8.1)\n",
      "Requirement already satisfied: prompt-toolkit!=3.0.0,!=3.0.1,<3.1.0,>=2.0.0 in /Users/ploskon/devel/heppy/venv/heppy-15e9EH0f/lib/python3.9/site-packages (from ipython>=4.0.0->ipywidgets) (3.0.18)\n",
      "Requirement already satisfied: decorator in /Users/ploskon/devel/heppy/venv/heppy-15e9EH0f/lib/python3.9/site-packages (from ipython>=4.0.0->ipywidgets) (4.4.2)\n",
      "Requirement already satisfied: pexpect>4.3 in /Users/ploskon/devel/heppy/venv/heppy-15e9EH0f/lib/python3.9/site-packages (from ipython>=4.0.0->ipywidgets) (4.8.0)\n",
      "Requirement already satisfied: setuptools>=18.5 in /Users/ploskon/devel/heppy/venv/heppy-15e9EH0f/lib/python3.9/site-packages (from ipython>=4.0.0->ipywidgets) (54.0.0)\n",
      "Requirement already satisfied: backcall in /Users/ploskon/devel/heppy/venv/heppy-15e9EH0f/lib/python3.9/site-packages (from ipython>=4.0.0->ipywidgets) (0.2.0)\n",
      "Requirement already satisfied: jedi>=0.16 in /Users/ploskon/devel/heppy/venv/heppy-15e9EH0f/lib/python3.9/site-packages (from ipython>=4.0.0->ipywidgets) (0.18.0)\n",
      "Requirement already satisfied: parso<0.9.0,>=0.8.0 in /Users/ploskon/devel/heppy/venv/heppy-15e9EH0f/lib/python3.9/site-packages (from jedi>=0.16->ipython>=4.0.0->ipywidgets) (0.8.2)\n",
      "Requirement already satisfied: ipython-genutils in /Users/ploskon/devel/heppy/venv/heppy-15e9EH0f/lib/python3.9/site-packages (from nbformat>=4.2.0->ipywidgets) (0.2.0)\n",
      "Requirement already satisfied: jupyter-core in /Users/ploskon/devel/heppy/venv/heppy-15e9EH0f/lib/python3.9/site-packages (from nbformat>=4.2.0->ipywidgets) (4.7.1)\n",
      "Requirement already satisfied: jsonschema!=2.5.0,>=2.4 in /Users/ploskon/devel/heppy/venv/heppy-15e9EH0f/lib/python3.9/site-packages (from nbformat>=4.2.0->ipywidgets) (3.2.0)\n",
      "Requirement already satisfied: six>=1.11.0 in /Users/ploskon/devel/heppy/venv/heppy-15e9EH0f/lib/python3.9/site-packages (from jsonschema!=2.5.0,>=2.4->nbformat>=4.2.0->ipywidgets) (1.15.0)\n",
      "Requirement already satisfied: pyrsistent>=0.14.0 in /Users/ploskon/devel/heppy/venv/heppy-15e9EH0f/lib/python3.9/site-packages (from jsonschema!=2.5.0,>=2.4->nbformat>=4.2.0->ipywidgets) (0.17.3)\n",
      "Requirement already satisfied: attrs>=17.4.0 in /Users/ploskon/devel/heppy/venv/heppy-15e9EH0f/lib/python3.9/site-packages (from jsonschema!=2.5.0,>=2.4->nbformat>=4.2.0->ipywidgets) (20.3.0)\n",
      "Requirement already satisfied: ptyprocess>=0.5 in /Users/ploskon/devel/heppy/venv/heppy-15e9EH0f/lib/python3.9/site-packages (from pexpect>4.3->ipython>=4.0.0->ipywidgets) (0.7.0)\n",
      "Requirement already satisfied: wcwidth in /Users/ploskon/devel/heppy/venv/heppy-15e9EH0f/lib/python3.9/site-packages (from prompt-toolkit!=3.0.0,!=3.0.1,<3.1.0,>=2.0.0->ipython>=4.0.0->ipywidgets) (0.2.5)\n",
      "Requirement already satisfied: notebook>=4.4.1 in /Users/ploskon/devel/heppy/venv/heppy-15e9EH0f/lib/python3.9/site-packages (from widgetsnbextension~=3.5.0->ipywidgets) (6.3.0)\n",
      "Requirement already satisfied: jinja2 in /Users/ploskon/devel/heppy/venv/heppy-15e9EH0f/lib/python3.9/site-packages (from notebook>=4.4.1->widgetsnbextension~=3.5.0->ipywidgets) (2.11.3)\n",
      "Requirement already satisfied: nbconvert in /Users/ploskon/devel/heppy/venv/heppy-15e9EH0f/lib/python3.9/site-packages (from notebook>=4.4.1->widgetsnbextension~=3.5.0->ipywidgets) (6.0.7)\n",
      "Requirement already satisfied: Send2Trash>=1.5.0 in /Users/ploskon/devel/heppy/venv/heppy-15e9EH0f/lib/python3.9/site-packages (from notebook>=4.4.1->widgetsnbextension~=3.5.0->ipywidgets) (1.5.0)\n",
      "Requirement already satisfied: terminado>=0.8.3 in /Users/ploskon/devel/heppy/venv/heppy-15e9EH0f/lib/python3.9/site-packages (from notebook>=4.4.1->widgetsnbextension~=3.5.0->ipywidgets) (0.9.4)\n",
      "Requirement already satisfied: prometheus-client in /Users/ploskon/devel/heppy/venv/heppy-15e9EH0f/lib/python3.9/site-packages (from notebook>=4.4.1->widgetsnbextension~=3.5.0->ipywidgets) (0.9.0)\n",
      "Requirement already satisfied: pyzmq>=17 in /Users/ploskon/devel/heppy/venv/heppy-15e9EH0f/lib/python3.9/site-packages (from notebook>=4.4.1->widgetsnbextension~=3.5.0->ipywidgets) (22.0.3)\n",
      "Requirement already satisfied: argon2-cffi in /Users/ploskon/devel/heppy/venv/heppy-15e9EH0f/lib/python3.9/site-packages (from notebook>=4.4.1->widgetsnbextension~=3.5.0->ipywidgets) (20.1.0)\n",
      "Requirement already satisfied: python-dateutil>=2.1 in /Users/ploskon/devel/heppy/venv/heppy-15e9EH0f/lib/python3.9/site-packages (from jupyter-client->ipykernel>=4.5.1->ipywidgets) (2.8.1)\n",
      "Requirement already satisfied: cffi>=1.0.0 in /Users/ploskon/devel/heppy/venv/heppy-15e9EH0f/lib/python3.9/site-packages (from argon2-cffi->notebook>=4.4.1->widgetsnbextension~=3.5.0->ipywidgets) (1.14.5)\n",
      "Requirement already satisfied: pycparser in /Users/ploskon/devel/heppy/venv/heppy-15e9EH0f/lib/python3.9/site-packages (from cffi>=1.0.0->argon2-cffi->notebook>=4.4.1->widgetsnbextension~=3.5.0->ipywidgets) (2.20)\n",
      "Requirement already satisfied: MarkupSafe>=0.23 in /Users/ploskon/devel/heppy/venv/heppy-15e9EH0f/lib/python3.9/site-packages (from jinja2->notebook>=4.4.1->widgetsnbextension~=3.5.0->ipywidgets) (1.1.1)\n",
      "Requirement already satisfied: mistune<2,>=0.8.1 in /Users/ploskon/devel/heppy/venv/heppy-15e9EH0f/lib/python3.9/site-packages (from nbconvert->notebook>=4.4.1->widgetsnbextension~=3.5.0->ipywidgets) (0.8.4)\n",
      "Requirement already satisfied: pandocfilters>=1.4.1 in /Users/ploskon/devel/heppy/venv/heppy-15e9EH0f/lib/python3.9/site-packages (from nbconvert->notebook>=4.4.1->widgetsnbextension~=3.5.0->ipywidgets) (1.4.3)\n",
      "Requirement already satisfied: jupyterlab-pygments in /Users/ploskon/devel/heppy/venv/heppy-15e9EH0f/lib/python3.9/site-packages (from nbconvert->notebook>=4.4.1->widgetsnbextension~=3.5.0->ipywidgets) (0.1.2)\n",
      "Requirement already satisfied: bleach in /Users/ploskon/devel/heppy/venv/heppy-15e9EH0f/lib/python3.9/site-packages (from nbconvert->notebook>=4.4.1->widgetsnbextension~=3.5.0->ipywidgets) (3.3.0)\n",
      "Requirement already satisfied: nbclient<0.6.0,>=0.5.0 in /Users/ploskon/devel/heppy/venv/heppy-15e9EH0f/lib/python3.9/site-packages (from nbconvert->notebook>=4.4.1->widgetsnbextension~=3.5.0->ipywidgets) (0.5.3)\n",
      "Requirement already satisfied: entrypoints>=0.2.2 in /Users/ploskon/devel/heppy/venv/heppy-15e9EH0f/lib/python3.9/site-packages (from nbconvert->notebook>=4.4.1->widgetsnbextension~=3.5.0->ipywidgets) (0.3)\n",
      "Requirement already satisfied: testpath in /Users/ploskon/devel/heppy/venv/heppy-15e9EH0f/lib/python3.9/site-packages (from nbconvert->notebook>=4.4.1->widgetsnbextension~=3.5.0->ipywidgets) (0.4.4)\n",
      "Requirement already satisfied: defusedxml in /Users/ploskon/devel/heppy/venv/heppy-15e9EH0f/lib/python3.9/site-packages (from nbconvert->notebook>=4.4.1->widgetsnbextension~=3.5.0->ipywidgets) (0.7.1)\n",
      "Requirement already satisfied: async-generator in /Users/ploskon/devel/heppy/venv/heppy-15e9EH0f/lib/python3.9/site-packages (from nbclient<0.6.0,>=0.5.0->nbconvert->notebook>=4.4.1->widgetsnbextension~=3.5.0->ipywidgets) (1.10)\n",
      "Requirement already satisfied: nest-asyncio in /Users/ploskon/devel/heppy/venv/heppy-15e9EH0f/lib/python3.9/site-packages (from nbclient<0.6.0,>=0.5.0->nbconvert->notebook>=4.4.1->widgetsnbextension~=3.5.0->ipywidgets) (1.5.1)\n",
      "Requirement already satisfied: webencodings in /Users/ploskon/devel/heppy/venv/heppy-15e9EH0f/lib/python3.9/site-packages (from bleach->nbconvert->notebook>=4.4.1->widgetsnbextension~=3.5.0->ipywidgets) (0.5.1)\n",
      "Requirement already satisfied: packaging in /Users/ploskon/devel/heppy/venv/heppy-15e9EH0f/lib/python3.9/site-packages (from bleach->nbconvert->notebook>=4.4.1->widgetsnbextension~=3.5.0->ipywidgets) (20.9)\n",
      "Requirement already satisfied: pyparsing>=2.0.2 in /Users/ploskon/devel/heppy/venv/heppy-15e9EH0f/lib/python3.9/site-packages (from packaging->bleach->nbconvert->notebook>=4.4.1->widgetsnbextension~=3.5.0->ipywidgets) (2.4.7)\n"
     ]
    }
   ],
   "source": [
    "import sys\n",
    "!{sys.executable} -m pip install ipympl\n",
    "!{sys.executable} -m pip install ipywidgets\n",
    "# note you may need to restart the lab after that\n",
    "%matplotlib widget\n",
    "import matplotlib.pyplot as plt\n",
    "import seaborn as sns\n",
    "sns.set()\n",
    "from tqdm.notebook import tqdm"
   ]
  },
  {
   "cell_type": "code",
   "execution_count": 3,
   "metadata": {},
   "outputs": [],
   "source": [
    "def create_and_init_pythia(config_strings=[]):\n",
    "    pythia = pythia8.Pythia()\n",
    "    for s in config_strings:\n",
    "        pythia.readString(s)\n",
    "    for extra_s in [\"Next:numberShowEvent = 0\", \"Next:numberShowInfo = 0\", \"Next:numberShowProcess = 0\"]:\n",
    "        pythia.readString(extra_s)\n",
    "    if pythia.init():\n",
    "        return pythia\n",
    "    return None"
   ]
  },
  {
   "cell_type": "code",
   "execution_count": 4,
   "metadata": {},
   "outputs": [],
   "source": [
    "sconfig_pythia = [ \"Beams:eCM = 8000.\", \"HardQCD:all = on\", \"PhaseSpace:pTHatMin = 20.\"]\n",
    "pythia = create_and_init_pythia(sconfig_pythia)"
   ]
  },
  {
   "cell_type": "code",
   "execution_count": 5,
   "metadata": {},
   "outputs": [],
   "source": [
    "# set up our jet definition and a jet selector\n",
    "jet_R0 = 0.4\n",
    "jet_def = fj.JetDefinition(fj.antikt_algorithm, jet_R0)\n",
    "selector = fj.SelectorPtMin(20.0) & fj.SelectorPtMax(40.0) & fj.SelectorAbsEtaMax(1)\n",
    "sd = rt.SoftDrop(0, 0.1, 1.0)"
   ]
  },
  {
   "cell_type": "code",
   "execution_count": 6,
   "metadata": {},
   "outputs": [],
   "source": [
    "# set up our jet definition and a jet selector\n",
    "jet_R0 = 0.4\n",
    "jet_def = fj.JetDefinition(fj.antikt_algorithm, jet_R0)\n",
    "jet_selector = fj.SelectorPtMin(20.0) & fj.SelectorPtMax(40.0) & fj.SelectorAbsEtaMax(1)\n",
    "sd = rt.SoftDrop(0, 0.1, 1.0)"
   ]
  },
  {
   "cell_type": "code",
   "execution_count": 15,
   "metadata": {},
   "outputs": [
    {
     "data": {
      "application/vnd.jupyter.widget-view+json": {
       "model_id": "ddada3392e994f14882991291facc000",
       "version_major": 2,
       "version_minor": 0
      },
      "text/plain": [
       "event:   0%|          | 0/100 [00:00<?, ?it/s]"
      ]
     },
     "metadata": {},
     "output_type": "display_data"
    }
   ],
   "source": [
    "all_jets = []\n",
    "# for iEvent in tqdm.notebook.tqdm(range(100), 'event'):\n",
    "for iEvent in tqdm(range(100), 'event'):\n",
    "    if not pythia.next(): continue\n",
    "    parts = pyfj.vectorize(pythia, True, -1, 1, False)\n",
    "    jets = jet_selector(jet_def(parts))\n",
    "    all_jets.extend(jets)"
   ]
  },
  {
   "cell_type": "code",
   "execution_count": 16,
   "metadata": {},
   "outputs": [],
   "source": [
    "def deltas(jets, jets0):\n",
    "    for i in range(len(jets)):\n",
    "        yield jets0[i].perp() - jets[i].perp()"
   ]
  },
  {
   "cell_type": "code",
   "execution_count": 17,
   "metadata": {},
   "outputs": [
    {
     "name": "stdout",
     "output_type": "stream",
     "text": [
      "CPU times: user 1.86 ms, sys: 116 µs, total: 1.98 ms\n",
      "Wall time: 2.18 ms\n"
     ]
    }
   ],
   "source": [
    "%%time\n",
    "all_sd_jets = [sd.result(j) for j in all_jets]\n",
    "\n",
    "etas = [j.eta() for j in all_jets]\n",
    "pts = [j.pt() for j in all_jets]\n",
    "sd_pts = [j.pt() for j in all_sd_jets]\n",
    "sd_delta_pt = [delta for delta in deltas(all_jets, all_sd_jets)]\n",
    "\n",
    "angs0 = [fjext.angularity(j, 0., 1.) for j in all_jets]\n",
    "sd_angs0 = [fjext.angularity(j, 0., 1.) for j in all_sd_jets]\n",
    "angs0_R0 = [fjext.angularity(j, 0., jet_R0) for j in all_jets]\n",
    "sd_angs0_R0 = [fjext.angularity(j, 0., jet_R0) for j in all_sd_jets]\n",
    "\n",
    "angs1 = [fjext.angularity(j, 1., 1.) for j in all_jets]\n",
    "sd_angs1 = [fjext.angularity(j, 1., 1.) for j in all_sd_jets]\n",
    "angs1_R0 = [fjext.angularity(j, 1., jet_R0) for j in all_jets]\n",
    "sd_angs1_R0 = [fjext.angularity(j, 1., jet_R0) for j in all_sd_jets]\n",
    "\n",
    "angs15 = [fjext.angularity(j, 1.5, 1.) for j in all_jets]\n",
    "sd_angs15 = [fjext.angularity(j, 1.5, 1.) for j in all_sd_jets]\n",
    "angs15_R0 = [fjext.angularity(j, 1.5, jet_R0) for j in all_jets]\n",
    "sd_angs15_R0 = [fjext.angularity(j, 1.5, jet_R0) for j in all_sd_jets]"
   ]
  },
  {
   "cell_type": "code",
   "execution_count": 18,
   "metadata": {},
   "outputs": [
    {
     "data": {
      "application/vnd.jupyter.widget-view+json": {
       "model_id": "9966833213aa4b3aa597ced33efd5bdd",
       "version_major": 2,
       "version_minor": 0
      },
      "text/plain": [
       "Canvas(toolbar=Toolbar(toolitems=[('Home', 'Reset original view', 'home', 'home'), ('Back', 'Back to previous …"
      ]
     },
     "metadata": {},
     "output_type": "display_data"
    }
   ],
   "source": [
    "fig, axes = plt.subplots(nrows=1, ncols=2, sharex=False, sharey=False)\n",
    "ax0, ax1, = axes.flatten()\n",
    "n, bins, patches = ax0.hist(pts, 25, density=1, facecolor='blue', alpha=0.3, label='anti-$k_{T}$ R=0.4')\n",
    "n, bins, patches = ax0.hist(sd_pts, 25, density=1, facecolor='red', alpha=0.3, label='Soft Dropped (SD)')\n",
    "# n, bins, patches = ax0.hist(sd_pts, 25, density=1, facecolor='red', alpha=0.3)\n",
    "ax0.set_xlabel(r'$p_{T}$ (GeV)')\n",
    "ax0.set_ylabel('Probability within $\\hat{p_{T}} > 20$')\n",
    "ax0.set_title(r'$\\mathrm{PYTHIA\\ jets}\\ \\sqrt{s}=8\\ \\mathrm{TeV}$ proton-proton')\n",
    "ax0.grid(True)\n",
    "ax0.legend(prop={'size': 10})\n",
    "ax0.set_yscale('log')\n",
    "\n",
    "n, bins, patches = ax1.hist(sd_delta_pt, 25, density=1, facecolor='green', alpha=0.3, label='$\\Delta p_{T} = p_{T}^{SD} - p_{T}$')\n",
    "ax1.legend(prop={'size': 10})\n",
    "ax1.grid(True)\n",
    "ax1.set_yscale('log')\n",
    "fig.tight_layout()"
   ]
  },
  {
   "cell_type": "code",
   "execution_count": 19,
   "metadata": {},
   "outputs": [
    {
     "data": {
      "application/vnd.jupyter.widget-view+json": {
       "model_id": "b8c8eabfdf9747398974b40c5df63edc",
       "version_major": 2,
       "version_minor": 0
      },
      "text/plain": [
       "Canvas(toolbar=Toolbar(toolitems=[('Home', 'Reset original view', 'home', 'home'), ('Back', 'Back to previous …"
      ]
     },
     "metadata": {},
     "output_type": "display_data"
    }
   ],
   "source": [
    "fig1, axes1 = plt.subplots(nrows=3, ncols=2, sharex=False, sharey=False)\n",
    "ax10, ax11, ax12, ax13, ax14, ax15= axes1.flatten()\n",
    "\n",
    "ax10.set_title(r'angularity $\\alpha = 0$')\n",
    "n, bins, patches = ax10.hist(angs0, 25, density=1, facecolor='blue', alpha=0.3)\n",
    "n, bins, patches = ax10.hist(sd_angs0, 25, density=1, facecolor='red', alpha=0.3)\n",
    "\n",
    "ax11.set_title(r'scaled by $R_{0}$')\n",
    "n, bins, patches = ax11.hist(angs0_R0, 25, density=1, facecolor='blue', alpha=0.3)\n",
    "n, bins, patches = ax11.hist(sd_angs0_R0, 25, density=1, facecolor='red', alpha=0.3)\n",
    "\n",
    "ax12.set_title(r'angularity $\\alpha = 1$')\n",
    "n, bins, patches = ax12.hist(angs1, 25, density=1, facecolor='blue', alpha=0.3)\n",
    "n, bins, patches = ax12.hist(sd_angs1, 25, density=1, facecolor='red', alpha=0.3)\n",
    "\n",
    "ax13.set_title(r'scaled by $R_{0}$')\n",
    "n, bins, patches = ax13.hist(angs1_R0, 25, density=1, facecolor='blue', alpha=0.3)\n",
    "n, bins, patches = ax13.hist(sd_angs1_R0, 25, density=1, facecolor='red', alpha=0.3)\n",
    "\n",
    "ax14.set_title(r'angularity $\\alpha = 1.5$')\n",
    "n, bins, patches = ax14.hist(angs15, 25, density=1, facecolor='blue', alpha=0.3)\n",
    "n, bins, patches = ax14.hist(sd_angs15, 25, density=1, facecolor='red', alpha=0.3)\n",
    "\n",
    "ax15.set_title(r'scaled by $R_{0}$')\n",
    "n, bins, patches = ax15.hist(angs15_R0, 25, density=1, facecolor='blue', alpha=0.3)\n",
    "n, bins, patches = ax15.hist(sd_angs15_R0, 25, density=1, facecolor='red', alpha=0.3)\n",
    "\n",
    "fig1.tight_layout()"
   ]
  },
  {
   "cell_type": "code",
   "execution_count": null,
   "metadata": {},
   "outputs": [],
   "source": []
  },
  {
   "cell_type": "code",
   "execution_count": null,
   "metadata": {},
   "outputs": [],
   "source": []
  }
 ],
 "metadata": {
  "kernelspec": {
   "display_name": "Python 3",
   "language": "python",
   "name": "python3"
  },
  "language_info": {
   "codemirror_mode": {
    "name": "ipython",
    "version": 3
   },
   "file_extension": ".py",
   "mimetype": "text/x-python",
   "name": "python",
   "nbconvert_exporter": "python",
   "pygments_lexer": "ipython3",
   "version": "3.9.2"
  }
 },
 "nbformat": 4,
 "nbformat_minor": 4
}
