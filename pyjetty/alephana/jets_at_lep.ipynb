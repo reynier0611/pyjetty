{
 "cells": [
  {
   "cell_type": "code",
   "execution_count": 1,
   "id": "acute-mapping",
   "metadata": {},
   "outputs": [
    {
     "name": "stdout",
     "output_type": "stream",
     "text": [
      "Welcome to JupyROOT 6.22/08\n"
     ]
    }
   ],
   "source": [
    "import ROOT"
   ]
  },
  {
   "cell_type": "code",
   "execution_count": 2,
   "id": "boolean-representative",
   "metadata": {},
   "outputs": [],
   "source": [
    "import fastjet as fj\n",
    "import fjext\n",
    "import fjcontrib\n",
    "\n",
    "import pythia8\n",
    "import pythiafjext\n",
    "import pythiaext"
   ]
  },
  {
   "cell_type": "code",
   "execution_count": 3,
   "id": "eligible-clark",
   "metadata": {},
   "outputs": [
    {
     "data": {
      "text/plain": [
       "True"
      ]
     },
     "execution_count": 3,
     "metadata": {},
     "output_type": "execute_result"
    },
    {
     "name": "stdout",
     "output_type": "stream",
     "text": [
      "\n",
      " *------------------------------------------------------------------------------------* \n",
      " |                                                                                    | \n",
      " |  *------------------------------------------------------------------------------*  | \n",
      " |  |                                                                              |  | \n",
      " |  |                                                                              |  | \n",
      " |  |   PPP   Y   Y  TTTTT  H   H  III    A      Welcome to the Lund Monte Carlo!  |  | \n",
      " |  |   P  P   Y Y     T    H   H   I    A A     This is PYTHIA version 8.244      |  | \n",
      " |  |   PPP     Y      T    HHHHH   I   AAAAA    Last date of change: 20 Dec 2019  |  | \n",
      " |  |   P       Y      T    H   H   I   A   A                                      |  | \n",
      " |  |   P       Y      T    H   H  III  A   A    Now is 06 Apr 2021 at 22:11:00    |  | \n",
      " |  |                                                                              |  | \n",
      " |  |   Christian Bierlich;  Department of Astronomy and Theoretical Physics,      |  | \n",
      " |  |      Lund University, Solvegatan 14A, SE-223 62 Lund, Sweden;                |  | \n",
      " |  |      e-mail: christian.bierlich@thep.lu.se                                   |  | \n",
      " |  |   Nishita Desai;  Department of Theoretical Physics, Tata Institute,         |  | \n",
      " |  |      Homi Bhabha Road, Mumbai 400005, India;                                 |  | \n",
      " |  |      e-mail: desai@theory.tifr.res.in                                        |  | \n",
      " |  |   Ilkka Helenius;  Department of Physics, University of Jyvaskyla,           |  | \n",
      " |  |      P.O. Box 35, FI-40014 University of Jyvaskyla, Finland;                 |  | \n",
      " |  |      e-mail: ilkka.m.helenius@jyu.fi                                         |  | \n",
      " |  |   Philip Ilten;  School of Physics and Astronomy,                            |  | \n",
      " |  |      University of Birmingham, Birmingham, B152 2TT, UK;                     |  | \n",
      " |  |      e-mail: philten@cern.ch                                                 |  | \n",
      " |  |   Leif Lonnblad;  Department of Astronomy and Theoretical Physics,           |  | \n",
      " |  |      Lund University, Solvegatan 14A, SE-223 62 Lund, Sweden;                |  | \n",
      " |  |      e-mail: leif.lonnblad@thep.lu.se                                        |  | \n",
      " |  |   Stephen Mrenna;  Computing Division, Simulations Group,                    |  | \n",
      " |  |      Fermi National Accelerator Laboratory, MS 234, Batavia, IL 60510, USA;  |  | \n",
      " |  |      e-mail: mrenna@fnal.gov                                                 |  | \n",
      " |  |   Stefan Prestel;  Department of Astronomy and Theoretical Physics,          |  | \n",
      " |  |      Lund University, Solvegatan 14A, SE-223 62 Lund, Sweden;                |  | \n",
      " |  |      e-mail: stefan.prestel@thep.lu.se                                       |  | \n",
      " |  |   Christine O. Rasmussen;  Department of Astronomy and Theoretical Physics,  |  | \n",
      " |  |      Lund University, Solvegatan 14A, SE-223 62 Lund, Sweden;                |  | \n",
      " |  |      e-mail: christine.rasmussen@thep.lu.se                                  |  | \n",
      " |  |   Torbjorn Sjostrand;  Department of Astronomy and Theoretical Physics,      |  | \n",
      " |  |      Lund University, Solvegatan 14A, SE-223 62 Lund, Sweden;                |  | \n",
      " |  |      e-mail: torbjorn@thep.lu.se                                             |  | \n",
      " |  |   Peter Skands;  School of Physics,                                          |  | \n",
      " |  |      Monash University, PO Box 27, 3800 Melbourne, Australia;                |  | \n",
      " |  |      e-mail: peter.skands@monash.edu                                         |  | \n",
      " |  |                                                                              |  | \n",
      " |  |   The main program reference is 'An Introduction to PYTHIA 8.2',             |  | \n",
      " |  |   T. Sjostrand et al, Comput. Phys. Commun. 191 (2015) 159                   |  | \n",
      " |  |   [arXiv:1410.3012 [hep-ph]]                                                 |  | \n",
      " |  |                                                                              |  | \n",
      " |  |   The main physics reference is the 'PYTHIA 6.4 Physics and Manual',         |  | \n",
      " |  |   T. Sjostrand, S. Mrenna and P. Skands, JHEP05 (2006) 026 [hep-ph/0603175]  |  | \n",
      " |  |                                                                              |  | \n",
      " |  |   An archive of program versions and documentation is found on the web:      |  | \n",
      " |  |   http://www.thep.lu.se/Pythia                                               |  | \n",
      " |  |                                                                              |  | \n",
      " |  |   This program is released under the GNU General Public Licence version 2.   |  | \n",
      " |  |   Please respect the MCnet Guidelines for Event Generator Authors and Users. |  | \n",
      " |  |                                                                              |  | \n",
      " |  |   Disclaimer: this program comes without any guarantees.                     |  | \n",
      " |  |   Beware of errors and use common sense when interpreting results.           |  | \n",
      " |  |                                                                              |  | \n",
      " |  |   Copyright (C) 2019 Torbjorn Sjostrand                                      |  | \n",
      " |  |                                                                              |  | \n",
      " |  |                                                                              |  | \n",
      " |  *------------------------------------------------------------------------------*  | \n",
      " |                                                                                    | \n",
      " *------------------------------------------------------------------------------------* \n",
      "\n",
      "\n",
      " *-------  PYTHIA Process Initialization  --------------------------*\n",
      " |                                                                  |\n",
      " | We collide e- with e+ at a CM energy of 9.119e+01 GeV            |\n",
      " |                                                                  |\n",
      " |------------------------------------------------------------------|\n",
      " |                                                    |             |\n",
      " | Subprocess                                    Code |   Estimated |\n",
      " |                                                    |    max (mb) |\n",
      " |                                                    |             |\n",
      " |------------------------------------------------------------------|\n",
      " |                                                    |             |\n",
      " | f fbar -> gamma*/Z0                            221 |   4.353e-05 |\n",
      " |                                                                  |\n",
      " *-------  End PYTHIA Process Initialization -----------------------*\n",
      "\n",
      " *-------  PYTHIA Flag + Mode + Parm + Word + FVec + MVec + PVec + WVec Settings (changes only)  ------------------* \n",
      " |                                                                                                                 | \n",
      " | Name                                          |                      Now |      Default         Min         Max | \n",
      " |                                               |                          |                                      | \n",
      " | Beams:eCM                                     |                 91.18760 |    14000.000    10.00000             | \n",
      " | Beams:idA                                     |                       11 |         2212                         | \n",
      " | Beams:idB                                     |                      -11 |         2212                         | \n",
      " | HadronLevel:all                               |                      off |           on                         | \n",
      " | Next:numberCount                              |                        0 |         1000           0             | \n",
      " | Next:numberShowEvent                          |                        0 |            1           0             | \n",
      " | Next:numberShowInfo                           |                        0 |            1           0             | \n",
      " | Next:numberShowProcess                        |                        0 |            1           0             | \n",
      " | PDF:lepton                                    |                      off |           on                         | \n",
      " | WeakSingleBoson:ffbar2gmZ                     |                       on |          off                         | \n",
      " |                                                                                                                 | \n",
      " *-------  End PYTHIA Flag + Mode + Parm + Word + FVec + MVec + PVec + WVec Settings  -----------------------------* \n",
      "\n",
      " --------  PYTHIA Particle Data Table (changed only)  ------------------------------------------------------------------------------\n",
      " \n",
      "      id   name            antiName         spn chg col      m0        mWidth      mMin       mMax       tau0    res dec ext vis wid\n",
      "             no onMode   bRatio   meMode     products \n",
      "\n",
      "      23  Z0                                  3   0   0   91.18760    2.50419   10.00000    0.00000  7.87987e-14   1   1   0   0   0\n",
      "              0     1   0.1540492    0        1       -1 \n",
      "              1     1   0.1194935    0        2       -2 \n",
      "              2     1   0.1540386    0        3       -3 \n",
      "              3     1   0.1193325    0        4       -4 \n",
      "              4     1   0.1523269    0        5       -5 \n",
      "              5     0   0.0335480    0       11      -11 \n",
      "              6     0   0.0667305    0       12      -12 \n",
      "              7     0   0.0335477    0       13      -13 \n",
      "              8     0   0.0667305    0       14      -14 \n",
      "              9     0   0.0334720    0       15      -15 \n",
      "             10     0   0.0667305    0       16      -16 \n",
      "\n",
      " --------  End PYTHIA Particle Data Table  -----------------------------------------------------------------------------------------\n",
      "\n"
     ]
    }
   ],
   "source": [
    "# Generator.\n",
    "pythia = pythia8.Pythia()\n",
    "extra_s = [\"Next:numberCount = 0\", \"Next:numberShowEvent = 0\", \"Next:numberShowInfo = 0\", \"Next:numberShowProcess = 0\", \"Stat:showProcessLevel = on\"]\n",
    "for s in extra_s:\n",
    "    pythia.readString(s)\n",
    "# Allow no substructure in e+- beams: normal for corrected LEP data.\n",
    "pythia.readString(\"PDF:lepton = off\")\n",
    "# Process selection.\n",
    "pythia.readString(\"WeakSingleBoson:ffbar2gmZ = on\")\n",
    "# Switch off all Z0 decays and then switch back on those to quarks.\n",
    "pythia.readString(\"23:onMode = off\");\n",
    "pythia.readString(\"23:onIfAny = 1 2 3 4 5\")\n",
    "# LEP1 initialization at Z0 mass.\n",
    "pythia.readString(\"Beams:idA =  11\")\n",
    "pythia.readString(\"Beams:idB = -11\")\n",
    "mZ = pythia.particleData.m0(23)\n",
    "pythia.settings.parm(\"Beams:eCM\", mZ)\n",
    "# parton level first\n",
    "pythia.readString(\"HadronLevel:all=off\")\n",
    "pythia.init()"
   ]
  },
  {
   "cell_type": "code",
   "execution_count": 4,
   "id": "contrary-blame",
   "metadata": {},
   "outputs": [
    {
     "name": "stdout",
     "output_type": "stream",
     "text": [
      "\n",
      "Longitudinally invariant anti-kt algorithm with R = 1 and E scheme recombination\n",
      "#--------------------------------------------------------------------------\n",
      "#                         FastJet release 3.3.3\n",
      "#                 M. Cacciari, G.P. Salam and G. Soyez                  \n",
      "#     A software package for jet finding and analysis at colliders      \n",
      "#                           http://fastjet.fr                           \n",
      "#\t                                                                      \n",
      "# Please cite EPJC72(2012)1896 [arXiv:1111.6097] if you use this package\n",
      "# for scientific work and optionally PLB641(2006)57 [hep-ph/0512210].   \n",
      "#                                                                       \n",
      "# FastJet is provided without warranty under the GNU GPL v2 or higher.  \n",
      "# It uses T. Chan's closest pair algorithm, S. Fortune's Voronoi code\n",
      "# and 3rd party plugin jet algorithms. See COPYING file for details.\n",
      "#--------------------------------------------------------------------------\n"
     ]
    }
   ],
   "source": [
    "# print the banner first\n",
    "fj.ClusterSequence.print_banner()\n",
    "print()\n",
    "# set up our jet definition and a jet selector\n",
    "jet_R0 = 1.0\n",
    "jet_def = fj.JetDefinition(fj.antikt_algorithm, jet_R0)\n",
    "print(jet_def)"
   ]
  },
  {
   "cell_type": "code",
   "execution_count": 5,
   "id": "exceptional-worker",
   "metadata": {},
   "outputs": [
    {
     "name": "stderr",
     "output_type": "stream",
     "text": [
      "\u001b[93m[w] max eta for particles after hadronization set to 10.0\u001b[00m\n",
      "\u001b[93m[w] max eta for partons set to 13.0\u001b[00m\n"
     ]
    }
   ],
   "source": [
    "# hadron level acceptamce\n",
    "max_eta_hadron = 10.\n",
    "from pyjetty.mputils import pwarning\n",
    "pwarning('max eta for particles after hadronization set to', max_eta_hadron)\n",
    "parts_selector_h = fj.SelectorAbsEtaMax(max_eta_hadron)\n",
    "jet_selector = fj.SelectorPtMin(1.0) & fj.SelectorPtMax(100.0) & fj.SelectorAbsEtaMax(max_eta_hadron - 1.05 * jet_R0)\n",
    "\n",
    "max_eta_parton = max_eta_hadron + 3. * jet_R0\n",
    "pwarning('max eta for partons set to', max_eta_parton)\n",
    "parts_selector_p = fj.SelectorAbsEtaMax(max_eta_parton)\n"
   ]
  },
  {
   "cell_type": "code",
   "execution_count": 6,
   "id": "potential-berlin",
   "metadata": {},
   "outputs": [],
   "source": [
    "#output\n",
    "outf = ROOT.TFile('lep_pythia8_out.root', 'recreate')\n",
    "outf.cd()\n",
    "t = ROOT.TTree('t', 't')\n",
    "from pyjetty.mputils import RTreeWriter\n",
    "tw = RTreeWriter(tree=t)\n",
    "hpt_parton = ROOT.TH1F('pt_parton_level', 'pt_parton_level', 50, 0, 50)\n",
    "hpt_hadron = ROOT.TH1F('pt_hadron_level', 'pt_hadron_level', 50, 0, 50)\n",
    "hpt_hadron.SetLineColor(3)"
   ]
  },
  {
   "cell_type": "code",
   "execution_count": 7,
   "id": "speaking-liability",
   "metadata": {},
   "outputs": [
    {
     "data": {
      "application/vnd.jupyter.widget-view+json": {
       "model_id": "ebc3ee37e21d4823b3da0985d85904c1",
       "version_major": 2,
       "version_minor": 0
      },
      "text/plain": [
       "  0%|          | 0/10000 [00:00<?, ?it/s]"
      ]
     },
     "metadata": {},
     "output_type": "display_data"
    },
    {
     "name": "stdout",
     "output_type": "stream",
     "text": [
      " PYTHIA Error in StringFragmentation::fragment: stuck in joining  \n",
      " PYTHIA Error in Pythia::forceHadronLevel: hadronLevel failed; try again  \n"
     ]
    }
   ],
   "source": [
    "# event loop\n",
    "nev = 10000\n",
    "# import tqdm\n",
    "from tqdm.notebook import tqdm\n",
    "for iev in tqdm(range(nev)):\n",
    "    if not pythia.next():\n",
    "        continue\n",
    "\n",
    "    #select particles\n",
    "    parts_pythia_p = pythiafjext.vectorize_select(pythia, [pythiafjext.kFinal], 0, True)\n",
    "    parts_pythia_p_selected = parts_selector_p(parts_pythia_p)\n",
    "\n",
    "    hstatus = pythia.forceHadronLevel()\n",
    "    if not hstatus:\n",
    "        pwarning('forceHadronLevel false event', iev)\n",
    "        continue\n",
    "    # parts_pythia_h = pythiafjext.vectorize_select(pythia, [pythiafjext.kHadron, pythiafjext.kCharged])\n",
    "    parts_pythia_h = pythiafjext.vectorize_select(pythia, [pythiafjext.kFinal], 0, True)\n",
    "    parts_pythia_h_selected = parts_selector_h(parts_pythia_h)\n",
    "\n",
    "    parts_pythia_hch = pythiafjext.vectorize_select(pythia, [pythiafjext.kFinal, pythiafjext.kCharged], 0, True)\n",
    "    parts_pythia_hch_selected = parts_selector_h(parts_pythia_hch)\n",
    "\n",
    "    # jet finder is just an extra - not needed for generation\n",
    "    jets_p = fj.sorted_by_pt(jet_def(parts_pythia_p))\n",
    "    jets_h = fj.sorted_by_pt(jet_def(parts_pythia_h))\n",
    "    jets_ch_h = fj.sorted_by_pt(jet_selector(jet_def(parts_pythia_hch)))\n",
    "\n",
    "    _c = [hpt_parton.Fill(j.perp()) for j in jets_p]\n",
    "    _c = [hpt_hadron.Fill(j.perp()) for j in jets_h]"
   ]
  },
  {
   "cell_type": "code",
   "execution_count": 8,
   "id": "limited-ordering",
   "metadata": {},
   "outputs": [
    {
     "name": "stdout",
     "output_type": "stream",
     "text": [
      "\n",
      " *-------  PYTHIA Event and Cross Section Statistics  -------------------------------------------------------------*\n",
      " |                                                                                                                 |\n",
      " | Subprocess                                    Code |            Number of events       |      sigma +- delta    |\n",
      " |                                                    |       Tried   Selected   Accepted |     (estimated) (mb)   |\n",
      " |                                                    |                                   |                        |\n",
      " |-----------------------------------------------------------------------------------------------------------------|\n",
      " |                                                    |                                   |                        |\n",
      " | f fbar -> gamma*/Z0                            221 |       10520      10000      10000 |   4.146e-05  2.084e-13 |\n",
      " |                                                    |                                   |                        |\n",
      " | sum                                                |       10520      10000      10000 |   4.146e-05  2.084e-13 |\n",
      " |                                                                                                                 |\n",
      " *-------  End PYTHIA Event and Cross Section Statistics ----------------------------------------------------------*\n",
      "\n",
      " *-------  PYTHIA Error and Warning Messages Statistics  ----------------------------------------------------------* \n",
      " |                                                                                                                 | \n",
      " |  times   message                                                                                                | \n",
      " |                                                                                                                 | \n",
      " |      1   Error in Pythia::forceHadronLevel: hadronLevel failed; try again                                       | \n",
      " |      1   Error in StringFragmentation::fragment: stuck in joining                                               | \n",
      " |                                                                                                                 | \n",
      " *-------  End PYTHIA Error and Warning Messages Statistics  ------------------------------------------------------* \n"
     ]
    }
   ],
   "source": [
    "pythia.stat()"
   ]
  },
  {
   "cell_type": "code",
   "execution_count": 9,
   "id": "civil-moldova",
   "metadata": {},
   "outputs": [
    {
     "data": {
      "text/html": [
       "\n",
       "<div id=\"root_plot_1617772274977\"\n",
       "     style=\"width: 396px; height: 372px\">\n",
       "</div>\n",
       "<script>\n",
       "if (typeof require !== 'undefined') {\n",
       "\n",
       "    // All requirements met (we are in jupyter notebooks or we loaded requirejs before).\n",
       "    display_root_plot_1617772274977();\n",
       "\n",
       "} else {\n",
       "\n",
       "    // We are in jupyterlab, we need to insert requirejs and configure it.\n",
       "    // Jupyterlab might be installed in a different base_url so we need to know it.\n",
       "    try {\n",
       "        var base_url = JSON.parse(document.getElementById('jupyter-config-data').innerHTML).baseUrl;\n",
       "    } catch(_) {\n",
       "        var base_url = '/';\n",
       "    }\n",
       "\n",
       "    // Try loading a local version of requirejs and fallback to cdn if not possible.\n",
       "    requirejs_load(base_url + 'static/components/requirejs/require.js', requirejs_success(base_url), function(){\n",
       "        requirejs_load('https://cdnjs.cloudflare.com/ajax/libs/require.js/2.2.0/require.min.js', requirejs_success(base_url), function(){\n",
       "            document.getElementById(\"root_plot_1617772274977\").innerHTML = \"Failed to load requireJs\";\n",
       "        });\n",
       "    });\n",
       "}\n",
       "\n",
       "function requirejs_load(src, on_load, on_error) {\n",
       "    var script = document.createElement('script');\n",
       "    script.src = src;\n",
       "    script.onload = on_load;\n",
       "    script.onerror = on_error;\n",
       "    document.head.appendChild(script);\n",
       "}\n",
       "\n",
       "function requirejs_success(base_url) {\n",
       "    return function() {\n",
       "        require.config({\n",
       "            baseUrl: base_url + 'static/'\n",
       "        });\n",
       "        display_root_plot_1617772274977();\n",
       "    }\n",
       "}\n",
       "\n",
       "function display_root_plot_1617772274977() {\n",
       "    require(['scripts/JSRootCore'],\n",
       "        function(Core) {\n",
       "            var obj = Core.JSONR_unref({\"_typename\":\"TCanvas\",\"fUniqueID\":0,\"fBits\":3342344,\"fLineColor\":1,\"fLineStyle\":1,\"fLineWidth\":1,\"fFillColor\":0,\"fFillStyle\":1001,\"fLeftMargin\":0.1,\"fRightMargin\":0.1,\"fBottomMargin\":0.1,\"fTopMargin\":0.1,\"fXfile\":2,\"fYfile\":2,\"fAfile\":1,\"fXstat\":0.99,\"fYstat\":0.99,\"fAstat\":2,\"fFrameFillColor\":0,\"fFrameLineColor\":1,\"fFrameFillStyle\":1001,\"fFrameLineStyle\":1,\"fFrameLineWidth\":1,\"fFrameBorderSize\":1,\"fFrameBorderMode\":0,\"fX1\":-6.25000046566131,\"fY1\":1.49876648732149,\"fX2\":56.2500004656613,\"fY2\":4.77184944602391,\"fXtoAbsPixelk\":39.600052360344,\"fXtoPixelk\":39.600052360344,\"fXtoPixel\":6.33599990558624,\"fYtoAbsPixelk\":542.341327724481,\"fYtoPixelk\":542.341327724481,\"fYtoPixel\":-113.654314508263,\"fUtoAbsPixelk\":5e-5,\"fUtoPixelk\":5e-5,\"fUtoPixel\":396,\"fVtoAbsPixelk\":372.00005,\"fVtoPixelk\":372,\"fVtoPixel\":-372,\"fAbsPixeltoXk\":-6.25000046566131,\"fPixeltoXk\":-6.25000046566131,\"fPixeltoX\":0.157828285180108,\"fAbsPixeltoYk\":4.77184944602391,\"fPixeltoYk\":1.49876648732149,\"fPixeltoY\":-0.00879861010403875,\"fXlowNDC\":0,\"fYlowNDC\":0,\"fXUpNDC\":1,\"fYUpNDC\":1,\"fWNDC\":1,\"fHNDC\":1,\"fAbsXlowNDC\":0,\"fAbsYlowNDC\":0,\"fAbsWNDC\":1,\"fAbsHNDC\":1,\"fUxmin\":0,\"fUymin\":1.82607480270083,\"fUxmax\":50,\"fUymax\":4.44454113064457,\"fTheta\":30,\"fPhi\":30,\"fAspectRatio\":0,\"fNumber\":0,\"fTickx\":0,\"fTicky\":0,\"fLogx\":0,\"fLogy\":1,\"fLogz\":0,\"fPadPaint\":0,\"fCrosshair\":0,\"fCrosshairPos\":0,\"fBorderSize\":2,\"fBorderMode\":0,\"fModified\":false,\"fGridx\":false,\"fGridy\":false,\"fAbsCoord\":false,\"fEditable\":true,\"fFixedAspectRatio\":false,\"fPrimitives\":{\"_typename\":\"TList\",\"name\":\"TList\",\"arr\":[{\"_typename\":\"TFrame\",\"fUniqueID\":0,\"fBits\":8,\"fLineColor\":1,\"fLineStyle\":1,\"fLineWidth\":1,\"fFillColor\":0,\"fFillStyle\":1001,\"fX1\":0,\"fY1\":1.82607480270083,\"fX2\":50,\"fY2\":4.44454113064457,\"fBorderSize\":1,\"fBorderMode\":0},{\"_typename\":\"TH1F\",\"fUniqueID\":0,\"fBits\":8,\"fName\":\"pt_parton_level\",\"fTitle\":\"pt_parton_level\",\"fLineColor\":602,\"fLineStyle\":1,\"fLineWidth\":1,\"fFillColor\":0,\"fFillStyle\":1001,\"fMarkerColor\":1,\"fMarkerStyle\":1,\"fMarkerSize\":1,\"fNcells\":52,\"fXaxis\":{\"_typename\":\"TAxis\",\"fUniqueID\":0,\"fBits\":0,\"fName\":\"xaxis\",\"fTitle\":\"\",\"fNdivisions\":510,\"fAxisColor\":1,\"fLabelColor\":1,\"fLabelFont\":42,\"fLabelOffset\":0.005,\"fLabelSize\":0.035,\"fTickLength\":0.03,\"fTitleOffset\":1,\"fTitleSize\":0.035,\"fTitleColor\":1,\"fTitleFont\":42,\"fNbins\":50,\"fXmin\":0,\"fXmax\":50,\"fXbins\":[],\"fFirst\":0,\"fLast\":0,\"fBits2\":0,\"fTimeDisplay\":false,\"fTimeFormat\":\"\",\"fLabels\":null,\"fModLabs\":null},\"fYaxis\":{\"_typename\":\"TAxis\",\"fUniqueID\":0,\"fBits\":0,\"fName\":\"yaxis\",\"fTitle\":\"\",\"fNdivisions\":510,\"fAxisColor\":1,\"fLabelColor\":1,\"fLabelFont\":42,\"fLabelOffset\":0.005,\"fLabelSize\":0.035,\"fTickLength\":0.03,\"fTitleOffset\":0,\"fTitleSize\":0.035,\"fTitleColor\":1,\"fTitleFont\":42,\"fNbins\":1,\"fXmin\":0,\"fXmax\":1,\"fXbins\":[],\"fFirst\":0,\"fLast\":0,\"fBits2\":0,\"fTimeDisplay\":false,\"fTimeFormat\":\"\",\"fLabels\":null,\"fModLabs\":null},\"fZaxis\":{\"_typename\":\"TAxis\",\"fUniqueID\":0,\"fBits\":0,\"fName\":\"zaxis\",\"fTitle\":\"\",\"fNdivisions\":510,\"fAxisColor\":1,\"fLabelColor\":1,\"fLabelFont\":42,\"fLabelOffset\":0.005,\"fLabelSize\":0.035,\"fTickLength\":0.03,\"fTitleOffset\":1,\"fTitleSize\":0.035,\"fTitleColor\":1,\"fTitleFont\":42,\"fNbins\":1,\"fXmin\":0,\"fXmax\":1,\"fXbins\":[],\"fFirst\":0,\"fLast\":0,\"fBits2\":0,\"fTimeDisplay\":false,\"fTimeFormat\":\"\",\"fLabels\":null,\"fModLabs\":null},\"fBarOffset\":0,\"fBarWidth\":1000,\"fEntries\":46997,\"fTsumw\":46997,\"fTsumw2\":46997,\"fTsumwx\":670580.206920767,\"fTsumwx2\":21283605.0790607,\"fMaximum\":-1111,\"fMinimum\":-1111,\"fNormFactor\":0,\"fContour\":[],\"fSumw2\":[],\"fOption\":\"\",\"fFunctions\":{\"_typename\":\"TList\",\"name\":\"TList\",\"arr\":[{\"_typename\":\"TPaveStats\",\"fUniqueID\":0,\"fBits\":9,\"fLineColor\":1,\"fLineStyle\":1,\"fLineWidth\":1,\"fFillColor\":0,\"fFillStyle\":1001,\"fX1\":42.5000012665987,\"fY1\":4.03540579982496,\"fX2\":55.0000016391278,\"fY2\":4.55909906151189,\"fX1NDC\":0.780000016093254,\"fY1NDC\":0.775000005960464,\"fX2NDC\":0.980000019073486,\"fY2NDC\":0.935000002384186,\"fBorderSize\":1,\"fInit\":1,\"fShadowColor\":1,\"fCornerRadius\":0,\"fOption\":\"brNDC\",\"fName\":\"stats\",\"fTextAngle\":0,\"fTextSize\":0,\"fTextAlign\":12,\"fTextColor\":1,\"fTextFont\":42,\"fLabel\":\"\",\"fLongest\":18,\"fMargin\":0.05,\"fLines\":{\"_typename\":\"TList\",\"name\":\"TList\",\"arr\":[{\"_typename\":\"TLatex\",\"fUniqueID\":0,\"fBits\":0,\"fName\":\"\",\"fTitle\":\"pt_parton_level\",\"fTextAngle\":0,\"fTextSize\":0.0368,\"fTextAlign\":0,\"fTextColor\":0,\"fTextFont\":0,\"fX\":0,\"fY\":0,\"fLineColor\":1,\"fLineStyle\":1,\"fLineWidth\":2,\"fLimitFactorSize\":3,\"fOriginSize\":0.0368000008165836},{\"_typename\":\"TLatex\",\"fUniqueID\":0,\"fBits\":0,\"fName\":\"\",\"fTitle\":\"Entries = 46997  \",\"fTextAngle\":0,\"fTextSize\":0,\"fTextAlign\":0,\"fTextColor\":0,\"fTextFont\":0,\"fX\":0,\"fY\":0,\"fLineColor\":1,\"fLineStyle\":1,\"fLineWidth\":2,\"fLimitFactorSize\":3,\"fOriginSize\":0.04},{\"_typename\":\"TLatex\",\"fUniqueID\":0,\"fBits\":0,\"fName\":\"\",\"fTitle\":\"Mean  =  14.27\",\"fTextAngle\":0,\"fTextSize\":0,\"fTextAlign\":0,\"fTextColor\":0,\"fTextFont\":0,\"fX\":0,\"fY\":0,\"fLineColor\":1,\"fLineStyle\":1,\"fLineWidth\":2,\"fLimitFactorSize\":3,\"fOriginSize\":0.04},{\"_typename\":\"TLatex\",\"fUniqueID\":0,\"fBits\":0,\"fName\":\"\",\"fTitle\":\"Std Dev   =  15.79\",\"fTextAngle\":0,\"fTextSize\":0,\"fTextAlign\":0,\"fTextColor\":0,\"fTextFont\":0,\"fX\":0,\"fY\":0,\"fLineColor\":1,\"fLineStyle\":1,\"fLineWidth\":2,\"fLimitFactorSize\":3,\"fOriginSize\":0.04}],\"opt\":[\"\",\"\",\"\",\"\"]},\"fOptFit\":0,\"fOptStat\":1111,\"fFitFormat\":\"5.4g\",\"fStatFormat\":\"6.4g\",\"fParent\":{\"$ref\":3}}],\"opt\":[\"brNDC\"]},\"fBufferSize\":0,\"fBuffer\":[],\"fBinStatErrOpt\":0,\"fStatOverflows\":2,\"fArray\":[0,14689,5050,1969,1268,852,671,560,496,482,411,417,417,405,409,407,417,405,436,421,438,435,436,475,479,491,498,508,542,547,573,552,565,559,650,647,693,718,799,842,809,879,911,942,954,739,134,0,0,0,0,0]},{\"_typename\":\"TH1F\",\"fUniqueID\":0,\"fBits\":8,\"fName\":\"pt_hadron_level\",\"fTitle\":\"pt_hadron_level\",\"fLineColor\":3,\"fLineStyle\":1,\"fLineWidth\":1,\"fFillColor\":0,\"fFillStyle\":1001,\"fMarkerColor\":1,\"fMarkerStyle\":1,\"fMarkerSize\":1,\"fNcells\":52,\"fXaxis\":{\"_typename\":\"TAxis\",\"fUniqueID\":0,\"fBits\":0,\"fName\":\"xaxis\",\"fTitle\":\"\",\"fNdivisions\":510,\"fAxisColor\":1,\"fLabelColor\":1,\"fLabelFont\":42,\"fLabelOffset\":0.005,\"fLabelSize\":0.035,\"fTickLength\":0.03,\"fTitleOffset\":1,\"fTitleSize\":0.035,\"fTitleColor\":1,\"fTitleFont\":42,\"fNbins\":50,\"fXmin\":0,\"fXmax\":50,\"fXbins\":[],\"fFirst\":0,\"fLast\":0,\"fBits2\":0,\"fTimeDisplay\":false,\"fTimeFormat\":\"\",\"fLabels\":null,\"fModLabs\":null},\"fYaxis\":{\"_typename\":\"TAxis\",\"fUniqueID\":0,\"fBits\":0,\"fName\":\"yaxis\",\"fTitle\":\"\",\"fNdivisions\":510,\"fAxisColor\":1,\"fLabelColor\":1,\"fLabelFont\":42,\"fLabelOffset\":0.005,\"fLabelSize\":0.035,\"fTickLength\":0.03,\"fTitleOffset\":0,\"fTitleSize\":0.035,\"fTitleColor\":1,\"fTitleFont\":42,\"fNbins\":1,\"fXmin\":0,\"fXmax\":1,\"fXbins\":[],\"fFirst\":0,\"fLast\":0,\"fBits2\":0,\"fTimeDisplay\":false,\"fTimeFormat\":\"\",\"fLabels\":null,\"fModLabs\":null},\"fZaxis\":{\"_typename\":\"TAxis\",\"fUniqueID\":0,\"fBits\":0,\"fName\":\"zaxis\",\"fTitle\":\"\",\"fNdivisions\":510,\"fAxisColor\":1,\"fLabelColor\":1,\"fLabelFont\":42,\"fLabelOffset\":0.005,\"fLabelSize\":0.035,\"fTickLength\":0.03,\"fTitleOffset\":1,\"fTitleSize\":0.035,\"fTitleColor\":1,\"fTitleFont\":42,\"fNbins\":1,\"fXmin\":0,\"fXmax\":1,\"fXbins\":[],\"fFirst\":0,\"fLast\":0,\"fBits2\":0,\"fTimeDisplay\":false,\"fTimeFormat\":\"\",\"fLabels\":null,\"fModLabs\":null},\"fBarOffset\":0,\"fBarWidth\":1000,\"fEntries\":73053,\"fTsumw\":73053,\"fTsumw2\":73053,\"fTsumwx\":662170.285804838,\"fTsumwx2\":20832351.2527209,\"fMaximum\":-1111,\"fMinimum\":-1111,\"fNormFactor\":0,\"fContour\":[],\"fSumw2\":[],\"fOption\":\"\",\"fFunctions\":{\"_typename\":\"TList\",\"name\":\"TList\",\"arr\":[],\"opt\":[]},\"fBufferSize\":0,\"fBuffer\":[],\"fBinStatErrOpt\":0,\"fStatOverflows\":2,\"fArray\":[0,41997,5178,1747,988,702,544,409,428,414,354,417,384,365,371,359,399,406,437,419,384,447,450,461,497,502,493,507,557,551,559,566,579,609,638,713,714,744,837,841,862,985,976,996,875,389,3,0,0,0,0,0]},{\"_typename\":\"TLegend\",\"fUniqueID\":0,\"fBits\":8,\"fLineColor\":1,\"fLineStyle\":1,\"fLineWidth\":1,\"fFillColor\":0,\"fFillStyle\":1001,\"fX1\":0.160256040115365,\"fY1\":1.8526132936677,\"fX2\":18.9102563195122,\"fY2\":2.5399607149952,\"fX1NDC\":0.102564102564103,\"fY1NDC\":0.108108108108108,\"fX2NDC\":0.402564102564103,\"fY2NDC\":0.318108108108108,\"fBorderSize\":1,\"fInit\":1,\"fShadowColor\":1,\"fCornerRadius\":0,\"fOption\":\"brNDC\",\"fName\":\"TPave\",\"fTextAngle\":0,\"fTextSize\":0,\"fTextAlign\":12,\"fTextColor\":1,\"fTextFont\":42,\"fPrimitives\":{\"_typename\":\"TList\",\"name\":\"TList\",\"arr\":[{\"_typename\":\"TLegendEntry\",\"fUniqueID\":0,\"fBits\":0,\"fTextAngle\":0,\"fTextSize\":0,\"fTextAlign\":0,\"fTextColor\":0,\"fTextFont\":42,\"fLineColor\":602,\"fLineStyle\":1,\"fLineWidth\":1,\"fFillColor\":0,\"fFillStyle\":1001,\"fMarkerColor\":1,\"fMarkerStyle\":1,\"fMarkerSize\":1,\"fObject\":{\"$ref\":3},\"fLabel\":\"pt_parton_level\",\"fOption\":\"lpf\"},{\"_typename\":\"TLegendEntry\",\"fUniqueID\":0,\"fBits\":0,\"fTextAngle\":0,\"fTextSize\":0,\"fTextAlign\":0,\"fTextColor\":0,\"fTextFont\":42,\"fLineColor\":3,\"fLineStyle\":1,\"fLineWidth\":1,\"fFillColor\":0,\"fFillStyle\":1001,\"fMarkerColor\":1,\"fMarkerStyle\":1,\"fMarkerSize\":1,\"fObject\":{\"$ref\":14},\"fLabel\":\"pt_hadron_level\",\"fOption\":\"lpflpf\"}],\"opt\":[\"lpf\",\"lpflpf\"]},\"fEntrySeparation\":0.1,\"fMargin\":0.25,\"fNColumns\":1,\"fColumnSeparation\":0},{\"_typename\":\"TPaveText\",\"fUniqueID\":0,\"fBits\":9,\"fLineColor\":1,\"fLineStyle\":1,\"fLineWidth\":1,\"fFillColor\":0,\"fFillStyle\":0,\"fX1\":13.3270200280792,\"fY1\":4.55487573646559,\"fX2\":36.6729799719208,\"fY2\":4.75548404683767,\"fX1NDC\":0.313232323232323,\"fY1NDC\":0.933709682187727,\"fX2NDC\":0.686767676767677,\"fY2NDC\":0.995000004768372,\"fBorderSize\":0,\"fInit\":1,\"fShadowColor\":1,\"fCornerRadius\":0,\"fOption\":\"blNDC\",\"fName\":\"title\",\"fTextAngle\":0,\"fTextSize\":0,\"fTextAlign\":22,\"fTextColor\":1,\"fTextFont\":42,\"fLabel\":\"\",\"fLongest\":15,\"fMargin\":0.05,\"fLines\":{\"_typename\":\"TList\",\"name\":\"TList\",\"arr\":[{\"_typename\":\"TLatex\",\"fUniqueID\":0,\"fBits\":0,\"fName\":\"\",\"fTitle\":\"pt_parton_level\",\"fTextAngle\":0,\"fTextSize\":0,\"fTextAlign\":0,\"fTextColor\":0,\"fTextFont\":0,\"fX\":0,\"fY\":0,\"fLineColor\":1,\"fLineStyle\":1,\"fLineWidth\":2,\"fLimitFactorSize\":3,\"fOriginSize\":0.0520967729389668}],\"opt\":[\"\"]}},{\"_typename\":\"TStyle\",\"fUniqueID\":0,\"fBits\":0,\"fName\":\"Modern\",\"fTitle\":\"Modern Style\",\"fLineColor\":1,\"fLineStyle\":1,\"fLineWidth\":1,\"fFillColor\":19,\"fFillStyle\":1001,\"fMarkerColor\":1,\"fMarkerStyle\":1,\"fMarkerSize\":1,\"fTextAngle\":0,\"fTextSize\":0.05,\"fTextAlign\":11,\"fTextColor\":1,\"fTextFont\":62,\"fXaxis\":{\"_typename\":\"TAttAxis\",\"fNdivisions\":510,\"fAxisColor\":1,\"fLabelColor\":1,\"fLabelFont\":42,\"fLabelOffset\":0.005,\"fLabelSize\":0.035,\"fTickLength\":0.03,\"fTitleOffset\":1,\"fTitleSize\":0.035,\"fTitleColor\":1,\"fTitleFont\":42},\"fYaxis\":{\"_typename\":\"TAttAxis\",\"fNdivisions\":510,\"fAxisColor\":1,\"fLabelColor\":1,\"fLabelFont\":42,\"fLabelOffset\":0.005,\"fLabelSize\":0.035,\"fTickLength\":0.03,\"fTitleOffset\":0,\"fTitleSize\":0.035,\"fTitleColor\":1,\"fTitleFont\":42},\"fZaxis\":{\"_typename\":\"TAttAxis\",\"fNdivisions\":510,\"fAxisColor\":1,\"fLabelColor\":1,\"fLabelFont\":42,\"fLabelOffset\":0.005,\"fLabelSize\":0.035,\"fTickLength\":0.03,\"fTitleOffset\":1,\"fTitleSize\":0.035,\"fTitleColor\":1,\"fTitleFont\":42},\"fBarWidth\":1,\"fBarOffset\":0,\"fColorModelPS\":0,\"fDrawBorder\":0,\"fOptLogx\":0,\"fOptLogy\":0,\"fOptLogz\":0,\"fOptDate\":0,\"fOptStat\":1111,\"fOptTitle\":1,\"fOptFile\":0,\"fOptFit\":0,\"fShowEventStatus\":0,\"fShowEditor\":0,\"fShowToolBar\":0,\"fNumberContours\":20,\"fAttDate\":{\"_typename\":\"TAttText\",\"fTextAngle\":0,\"fTextSize\":0.025,\"fTextAlign\":11,\"fTextColor\":1,\"fTextFont\":62},\"fDateX\":0.01,\"fDateY\":0.01,\"fEndErrorSize\":2,\"fErrorX\":0.5,\"fFuncColor\":2,\"fFuncStyle\":1,\"fFuncWidth\":2,\"fGridColor\":0,\"fGridStyle\":3,\"fGridWidth\":1,\"fLegendBorderSize\":1,\"fLegendFillColor\":0,\"fLegendFont\":42,\"fLegendTextSize\":0,\"fHatchesLineWidth\":1,\"fHatchesSpacing\":1,\"fFrameFillColor\":0,\"fFrameLineColor\":1,\"fFrameFillStyle\":1001,\"fFrameLineStyle\":1,\"fFrameLineWidth\":1,\"fFrameBorderSize\":1,\"fFrameBorderMode\":0,\"fHistFillColor\":0,\"fHistLineColor\":602,\"fHistFillStyle\":1001,\"fHistLineStyle\":1,\"fHistLineWidth\":1,\"fHistMinimumZero\":false,\"fHistTopMargin\":0.05,\"fCanvasPreferGL\":false,\"fCanvasColor\":0,\"fCanvasBorderSize\":2,\"fCanvasBorderMode\":0,\"fCanvasDefH\":500,\"fCanvasDefW\":700,\"fCanvasDefX\":10,\"fCanvasDefY\":10,\"fPadColor\":0,\"fPadBorderSize\":2,\"fPadBorderMode\":0,\"fPadBottomMargin\":0.1,\"fPadTopMargin\":0.1,\"fPadLeftMargin\":0.1,\"fPadRightMargin\":0.1,\"fPadGridX\":false,\"fPadGridY\":false,\"fPadTickX\":0,\"fPadTickY\":0,\"fPaperSizeX\":20,\"fPaperSizeY\":26,\"fScreenFactor\":1,\"fStatColor\":0,\"fStatTextColor\":1,\"fStatBorderSize\":1,\"fStatFont\":42,\"fStatFontSize\":0,\"fStatStyle\":1001,\"fStatFormat\":\"6.4g\",\"fStatX\":0.98,\"fStatY\":0.935,\"fStatW\":0.2,\"fStatH\":0.16,\"fStripDecimals\":true,\"fTitleAlign\":23,\"fTitleColor\":0,\"fTitleTextColor\":1,\"fTitleBorderSize\":0,\"fTitleFont\":42,\"fTitleFontSize\":0.05,\"fTitleStyle\":0,\"fTitleX\":0.5,\"fTitleY\":0.995,\"fTitleW\":0,\"fTitleH\":0,\"fLegoInnerR\":0.5,\"fLineStyle\":[\"\",\"  \",\" 12 12\",\" 4 8\",\" 12 16 4 16\",\" 20 12 4 12\",\" 20 12 4 12 4 12 4 12\",\" 20 20\",\" 20 12 4 12 4 12\",\" 80 20\",\" 80 40 4 40\",\"  \",\"  \",\"  \",\"  \",\"  \",\"  \",\"  \",\"  \",\"  \",\"  \",\"  \",\"  \",\"  \",\"  \",\"  \",\"  \",\"  \",\"  \",\"  \"],\"fHeaderPS\":\"\",\"fTitlePS\":\"\",\"fFitFormat\":\"5.4g\",\"fPaintTextFormat\":\"g\",\"fLineScalePS\":3,\"fJoinLinePS\":0,\"fCapLinePS\":0,\"fTimeOffset\":788918400,\"fImageScaling\":1}],\"opt\":[\"\",\"\",\"same\",\"\",\"blNDC\",\"\"]},\"fExecs\":null,\"fName\":\"cpt\",\"fTitle\":\"cpt\",\"fNumPaletteColor\":0,\"fNextPaletteColor\":0,\"fDISPLAY\":\"$DISPLAY\",\"fDoubleBuffer\":0,\"fRetained\":true,\"fXsizeUser\":0,\"fYsizeUser\":0,\"fXsizeReal\":20,\"fYsizeReal\":20,\"fWindowTopX\":0,\"fWindowTopY\":0,\"fWindowWidth\":0,\"fWindowHeight\":0,\"fCw\":396,\"fCh\":372,\"fCatt\":{\"_typename\":\"TAttCanvas\",\"fXBetween\":2,\"fYBetween\":2,\"fTitleFromTop\":1.2,\"fXdate\":0.2,\"fYdate\":0.3,\"fAdate\":1},\"kMoveOpaque\":true,\"kResizeOpaque\":true,\"fHighLightColor\":2,\"fBatch\":true,\"kShowEventStatus\":false,\"kAutoExec\":true,\"kMenuBar\":true});\n",
       "            Core.key_handling = false;\n",
       "            Core.draw(\"root_plot_1617772274977\", obj, \"\");\n",
       "        }\n",
       "    );\n",
       "}\n",
       "</script>\n"
      ],
      "text/plain": [
       "<IPython.core.display.HTML object>"
      ]
     },
     "metadata": {},
     "output_type": "display_data"
    }
   ],
   "source": [
    "%jsroot on\n",
    "# js has to work within lab or notebook...\n",
    "# run root --notebook ...\n",
    "canvas = ROOT.TCanvas(\"cpt\",\"cpt\",400,400)\n",
    "hpt_parton.Draw()\n",
    "hpt_hadron.Draw('same')\n",
    "canvas.SetLogy()\n",
    "canvas.BuildLegend()\n",
    "canvas.Draw()"
   ]
  },
  {
   "cell_type": "code",
   "execution_count": null,
   "id": "norman-organizer",
   "metadata": {},
   "outputs": [],
   "source": [
    "outf.Write()\n",
    "outf.Close()"
   ]
  }
 ],
 "metadata": {
  "kernelspec": {
   "display_name": "Python 3",
   "language": "python",
   "name": "python3"
  },
  "language_info": {
   "codemirror_mode": {
    "name": "ipython",
    "version": 3
   },
   "file_extension": ".py",
   "mimetype": "text/x-python",
   "name": "python",
   "nbconvert_exporter": "python",
   "pygments_lexer": "ipython3",
   "version": "3.9.2"
  }
 },
 "nbformat": 4,
 "nbformat_minor": 5
}
